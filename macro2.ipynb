{
 "cells": [
  {
   "cell_type": "code",
   "execution_count": 2,
   "id": "f623a816-efa4-4276-b175-b0359cb84a2d",
   "metadata": {},
   "outputs": [],
   "source": [
    "import os\n",
    "\n",
    "PROJECT_ROOT = '/Users/joelthomas/Library/CloudStorage/OneDrive-Personal/Documents/My Documents/UNIVERSITY/Masters/M2 Finance/Monetary and financial economics/Project/Code'\n",
    "DATA_DIR = '/Users/joelthomas/Library/CloudStorage/OneDrive-Personal/Documents/My Documents/UNIVERSITY/Masters/M2 Finance/Monetary and financial economics/Project/Code'\n",
    "GRAPHS_DIR = os.path.join(PROJECT_ROOT, 'latex', 'graphs')\n",
    "GRAPHS_WEB_DIR = os.path.join(PROJECT_ROOT, 'nlp_code', 'latex', 'graphs')\n",
    "\n",
    "RANDOM_SEED = 101\n",
    "PROFIT_MARGIN = .15\n",
    "LIQUIDATION_RECOVERY = .3"
   ]
  },
  {
   "cell_type": "code",
   "execution_count": 3,
   "id": "3c93731c-7f57-4183-96cb-0f512f2eb74e",
   "metadata": {},
   "outputs": [],
   "source": [
    "import os\n",
    "import pickle\n",
    "from datetime import datetime\n",
    "# import numba as nb\n",
    "import scipy\n",
    "import matplotlib.pyplot as plt\n",
    "\n",
    "from io import StringIO\n",
    "import sys\n",
    "\n",
    "\n",
    "import numpy as np\n",
    "import pandas as pd\n",
    "from itertools import compress\n",
    "\n",
    "\n",
    "def get_dt_index(df: pd.DataFrame, dt_index_col=None, is_rename_date: bool = True):\n",
    "    if dt_index_col is None: dt_index_col = 'date'\n",
    "    df = df.set_index(pd.DatetimeIndex(df[dt_index_col].apply(lambda x: datetime.strptime(x, \"%Y-%m-%d\"))))\n",
    "    if dt_index_col in df.columns:\n",
    "        df = df.drop(dt_index_col, axis=1)\n",
    "    if is_rename_date: df.index.name = 'date'\n",
    "    return df\n",
    "\n",
    "\n",
    "def load_pd_df(file_name, file_path=None, is_replace_nan=True, **kwargs):\n",
    "    file_type = file_name.split('.')[-1]\n",
    "\n",
    "    if file_path is None:\n",
    "        file_path = DATA_DIR\n",
    "\n",
    "    if file_type == 'csv':\n",
    "        return pd.read_csv(os.path.join(file_path, file_name), **kwargs)\n",
    "    elif file_type == 'xlsx':\n",
    "        return pd.read_excel(os.path.join(file_path, file_name), **kwargs)\n",
    "    elif file_type == 'feather':\n",
    "        df = pd.read_feather(os.path.join(file_path, file_name), **kwargs)\n",
    "        # if is_replace_nan:\n",
    "        #     warnings.warn(\"replacing nan for feather format, pass 'is_replace_nan=False' to disable\")\n",
    "        #     df = df.replace({'nan': np.nan})\n",
    "        return df\n",
    "    else:\n",
    "        raise KeyError(f\"{file_type} unknown\")\n",
    "\n",
    "\n",
    "def save_pd_df(df, file_name: str, file_path=None):\n",
    "    file_type = file_name.split('.')[-1]\n",
    "    if file_path is None:\n",
    "        file_path = '/Users/joelthomas/Library/CloudStorage/OneDrive-Personal/Documents/My Documents/UNIVERSITY/Masters/M2 Finance/Monetary and financial economics/Project/Code'\n",
    "\n",
    "    if file_type == \"csv\":\n",
    "        df.to_csv(os.path.join(file_path, file_name))\n",
    "    elif file_type == \"feather\":\n",
    "        df.to_feather(os.path.join(file_path, file_name))\n",
    "    else:\n",
    "        raise KeyError(f\"{file_type} unknown\")\n",
    "\n",
    "\n",
    "\n",
    "\n",
    "class Capturing(list):\n",
    "    def __init__(self, file_name: str):\n",
    "        self.file_name = file_name\n",
    "        pass\n",
    "\n",
    "    def __enter__(self):\n",
    "        self._stdout = sys.stdout\n",
    "        sys.stdout = self._stringio = StringIO()\n",
    "        return self\n",
    "\n",
    "    def __exit__(self, *args, **kwargs):\n",
    "        self.extend(self._stringio.getvalue().splitlines())\n",
    "        del self._stringio\n",
    "        sys.stdout = self._stdout\n",
    "        write_to_txt(\"\\n\".join(self), self.file_name, file_dir=os.getcwd())\n",
    "\n",
    "\n",
    "def write_to_txt(output: str, file_name, file_dir=None):\n",
    "    if file_dir is None: file_dir = GRAPHS_DIR\n",
    "    f = open(os.path.join(file_dir, file_name), 'w+')\n",
    "    f.write(output)\n",
    "    f.close()\n",
    "    pass\n",
    "\n",
    "\n",
    "def save_pkl(file: dict, f_name: str, f_path: str = None):\n",
    "    if f_path is None:\n",
    "        f_path = \"_\"\n",
    "    t = open(os.path.join(f_path, f\"{f_name}\"), \"wb+\")\n",
    "    pickle.dump(file, t)\n",
    "    t.close()\n",
    "    pass\n",
    "\n",
    "def save_fig(fig, f_name: str, f_path: str = None):\n",
    "    if f_path is None:\n",
    "        f_path = GRAPHS_DIR\n",
    "    fig.savefig(os.path.join(f_path, f_name))\n",
    "    pass\n",
    "\n",
    "\n",
    "def load_pickle(f_name, f_path=None):\n",
    "    if f_path is None:\n",
    "        f_path = \"_\"\n",
    "    t = open(os.path.join(f_path, f_name), 'rb')\n",
    "    file = pickle.load(t)\n",
    "    t.close()\n",
    "    return file\n",
    "\n",
    "\n",
    "def arr_min_max_scale(arr):\n",
    "    if arr.min() != arr.max():\n",
    "        return (arr - arr.min()) / (arr.max() - arr.min())\n",
    "    else:\n",
    "        return arr\n",
    "\n",
    "\n",
    "def pd_join_freq(df1, df2, freq: str = 'D', keep_left_index: bool = True, **kwargs):\n",
    "    df1, df2 = df1.copy(), df2.copy()\n",
    "    \n",
    "    for d in [df1, df2]:\n",
    "        assert d.index.name != freq, \"pls change index name\"\n",
    "        \n",
    "    if keep_left_index:\n",
    "        df1[df1.index.name] = df1.index\n",
    "        # df2['index_right'] = df2.index\n",
    "    \n",
    "    df1[freq] = df1.index.to_period(freq)\n",
    "    df2[freq] = df2.index.to_period(freq)\n",
    "    \n",
    "    df = pd.merge(df1, df2, on=freq, **kwargs).set_index(freq) #, axis=1)\n",
    "    df.index = df.index.to_timestamp()\n",
    "    if keep_left_index:\n",
    "        df = df.set_index(df1.index.name, drop=False)\n",
    "    return df\n",
    "\n",
    "\n",
    "def cross_corr(arr1, arr2, lags: int = 10, is_plot: bool = True, **kwargs):\n",
    "    assert arr1.shape == arr2.shape, \"please ensure both arrays are of same dimensions\"\n",
    "    \n",
    "    lags = min(len(arr1)-1, lags)\n",
    "    y1, y2 = 2/np.sqrt(len(arr1)), -2/np.sqrt(len(arr1))\n",
    "    corr = scipy.signal.correlate(arr2, arr2, mode='full', **kwargs)\n",
    "    corr = corr[len(arr1)-1-lags: len(arr2)-1+lags]\n",
    "\n",
    "    idx = np.linspace(-lags,lags, lags*2)\n",
    "    \n",
    "    if is_plot:\n",
    "        fig, ax = plt.subplots(1,1)        \n",
    "        ax.fill_between(idx, y1, y2, alpha=.2)\n",
    "        ax.axhline(y=0, color='black')\n",
    "        ax.bar(idx, corr, color='blue', width=.5)\n",
    "        ax.set_xlabel(f'no. of lags')\n",
    "        ax.set_ylabel(f'correlation')\n",
    "        ax.set_title(f\"Cross correlation with {lags} lags\")\n",
    "        plt.tight_layout()\n",
    "        \n",
    "        return idx, corr, y1, y2, fig\n",
    "    \n",
    "    else:\n",
    "        return idx, corr, y1, y2"
   ]
  },
  {
   "cell_type": "code",
   "execution_count": 4,
   "id": "ff133f88-bd1b-4a4f-887a-3525615476c0",
   "metadata": {
    "tags": []
   },
   "outputs": [],
   "source": [
    "from statsmodels.tsa.stattools import adfuller\n",
    "import pandas as pd\n",
    "import numpy as np\n",
    "import matplotlib.pyplot as plt\n",
    "\n",
    "\n",
    "def adf_test_summary(ser):\n",
    "    # ADF H0: there is a unit root\n",
    "\n",
    "    specs = {'constant': 'c', 'constant trend': 'ct', 'constant ltend, qtrend': 'ctt', 'none': 'n'}\n",
    "    results = {}\n",
    "\n",
    "    for pretty, spec in specs.items():\n",
    "        adf, pval, ulag, nobs, cval, icb = adfuller(ser, regression=spec)\n",
    "        keys = ['adf-stat', 'p-value', 'lags', 'obs', *cval.keys(), 'inf crit']\n",
    "        res = [adf, pval, ulag, nobs, *cval.values(), icb]\n",
    "        results[pretty] = dict(zip(keys, res))\n",
    "\n",
    "    if ser.name is not None:\n",
    "        title = ser.name.upper()\n",
    "    else:\n",
    "        title = ''\n",
    "\n",
    "    print('-' * 77)\n",
    "    print(f'ADF Test {title}: H0 there is a unit root')\n",
    "    print('-' * 77)\n",
    "    print(pd.DataFrame(results).transpose().round(3).iloc[:, :-1])\n",
    "    print('\\n')\n",
    "\n",
    "    pass\n",
    "\n",
    "\n",
    "from io import StringIO\n",
    "import sys\n",
    "\n",
    "\n",
    "class Capturing(list):\n",
    "    def __enter__(self):\n",
    "        self._stdout = sys.stdout\n",
    "        sys.stdout = self._stringio = StringIO()\n",
    "        return self\n",
    "\n",
    "    def __exit__(self, *args):\n",
    "        self.extend(self._stringio.getvalue().splitlines())\n",
    "        del self._stringio\n",
    "        sys.stdout = self._stdout\n",
    "\n",
    "\n",
    "def plot_df(df, n_cols: int = 3, fig_size: tuple = (5, 2)):\n",
    "    n_cols = min(n_cols, df.shape[1])\n",
    "    rows = int(np.ceil(df.shape[1] / n_cols))\n",
    "\n",
    "    fig, axes = plt.subplots(rows, n_cols, figsize=(n_cols * fig_size[0], rows * fig_size[1]))\n",
    "    for i, ax in enumerate(axes.reshape(-1)):\n",
    "        if i > df.shape[1] - 1: continue\n",
    "        ax.plot(df.iloc[:, i].dropna())\n",
    "        ax.set_title(df.iloc[:, i].name)\n",
    "\n",
    "    plt.tight_layout()\n",
    "    return fig, axes\n",
    "\n",
    "\n",
    "def simulate_brownian_motion(N, T, r, sigma, P0, n):\n",
    "    dt = T / n\n",
    "\n",
    "    paths = np.zeros((N, n + 1))\n",
    "    paths[:, 0] = np.log(P0)  # Use the natural logarithm of the initial price\n",
    "\n",
    "    for i in range(1, n + 1):\n",
    "        # Generate normal random shocks\n",
    "        dW = np.random.normal((r - 0.5 * sigma**2) * dt, sigma * np.sqrt(dt), N)\n",
    "\n",
    "        # Update paths using the volatility-adjusted shocks and natural logarithms\n",
    "        paths[:, i] = paths[:, i - 1] + dW\n",
    "\n",
    "    # Exponentiate to get the simulated paths of prices\n",
    "    paths = np.exp(paths)\n",
    "    \n",
    "    return paths\n",
    "\n",
    "def simulate_return_draws(N_sim, T_sim, P0, rets: np.array):\n",
    "        \n",
    "    simulations = np.zeros((N_sim, T_sim))\n",
    "    \n",
    "    for i in range(0, N_sim):\n",
    "        ind = np.random.randint(0, len(rets), T_sim)\n",
    "        simulations[i] = rets[ind]\n",
    "    \n",
    "    # cumulated product departing from p0\n",
    "    simulations = simulations + 1\n",
    "    simulations[:, 0] = simulations[:, 0] * P0\n",
    "    simulations = np.cumprod(simulations, axis=1)\n",
    "\n",
    "    return simulations\n",
    "\n",
    "def get_lookback_price(sims, T, N, r_e, P0):\n",
    "    sim_max = sims.max(axis=1)\n",
    "    G0 = np.exp(-r_e * T) * 1 / N * np.sum(sim_max) - P0\n",
    "    sigma_y = 1 / N * np.sum((sim_max - np.mean(sim_max)) ** 2)\n",
    "    print(G0, sigma_y)\n",
    "    \n",
    "    # mu = np.linspace(P0, P0 + G0, T_sim)\n",
    "    \n",
    "    # upper = np.linspace(P0, P0 + G0 + G0 * 1.96 * sigma_y, T) \n",
    "    # lower = np.linspace(P0, P0 + G0 - G0 * 1.96 * sigma_y, T) \n",
    "    u, l = G0 + 1.96 * sigma_y, G0 - 1.96 * sigma_y\n",
    "\n",
    "    return sim_max, G0, mu, u, l, sigma_y\n",
    "\n",
    "def write_to_txt(output: str, file_path):\n",
    "    f = open(file_path, 'w+')\n",
    "    f.write(output)\n",
    "    f.close()\n",
    "    pass"
   ]
  },
  {
   "cell_type": "code",
   "execution_count": 5,
   "id": "c0027026-7a2b-4a2d-9b33-f32cf14d9d74",
   "metadata": {},
   "outputs": [],
   "source": [
    "import pymc as pm\n",
    "from pymc_experimental.statespace.core.statespace import PyMCStateSpace\n",
    "\n",
    "from pymc_experimental.statespace.utils.constants import (\n",
    "    ALL_STATE_DIM,\n",
    "    ALL_STATE_AUX_DIM,\n",
    "    OBS_STATE_DIM,\n",
    "    SHOCK_DIM,\n",
    ")\n",
    "from pymc_experimental.statespace.models.utilities import make_default_coords\n",
    "\n",
    "import pytensor.tensor as pt\n",
    "import jax\n",
    "import numpyro\n",
    "\n",
    "jax.config.update(\"jax_platform_name\", \"cpu\")\n",
    "numpyro.set_host_device_count(4)"
   ]
  },
  {
   "cell_type": "code",
   "execution_count": 6,
   "id": "2a48e708-9417-4a4e-b1c0-0831973e55e9",
   "metadata": {
    "tags": []
   },
   "outputs": [],
   "source": [
    "import pandas as pd\n",
    "import numpy as np\n",
    "import sympy as sp\n",
    "\n",
    "import matplotlib.pyplot as plt\n",
    "import seaborn as sns\n",
    "\n",
    "from datetime import datetime\n",
    "import os\n",
    "import scipy"
   ]
  },
  {
   "cell_type": "code",
   "execution_count": 7,
   "id": "92bd38e6-fd4e-4b4b-99f6-8ab9a90f06e7",
   "metadata": {
    "scrolled": true
   },
   "outputs": [],
   "source": [
    "import eurostat"
   ]
  },
  {
   "cell_type": "code",
   "execution_count": 8,
   "id": "24a72771-5467-4689-852c-c91bd062cd46",
   "metadata": {},
   "outputs": [],
   "source": [
    "from statsmodels.tsa.filters.hp_filter import hpfilter\n",
    "from statsmodels.regression.linear_model import OLS\n",
    "from statsmodels.tsa.arima.model import ARIMA \n",
    "from statsmodels.iolib.summary2 import summary_col\n",
    "import statsmodels.api as sm\n",
    "from statsmodels.tsa.stattools import adfuller"
   ]
  },
  {
   "cell_type": "code",
   "execution_count": 9,
   "id": "2cd21d4a-e802-496f-85f9-ef6ee9a17e3d",
   "metadata": {
    "tags": []
   },
   "outputs": [],
   "source": [
    "import warnings\n",
    "from statsmodels.tools.sm_exceptions import ConvergenceWarning\n",
    "warnings.simplefilter('ignore', ConvergenceWarning)"
   ]
  },
  {
   "cell_type": "code",
   "execution_count": 10,
   "id": "90f5d420-41dc-4bcb-955f-5d48e97d3a30",
   "metadata": {
    "tags": []
   },
   "outputs": [],
   "source": [
    "plt.rcParams[\"figure.figsize\"] = (12,3)"
   ]
  },
  {
   "cell_type": "markdown",
   "id": "d532617f-d74a-402c-8968-4fb17228343a",
   "metadata": {},
   "source": [
    "# Question 1\n",
    "\"Expand the data base for proxies of your policy target inflation and your policy target for the longest period. Provide the link to the database (FRED, ECB, BdF, BoE, IMF, WB and so on) related to your time series. For example, do no use the CPI index but its growth rate (or difference of log) which measure inflation.\""
   ]
  },
  {
   "cell_type": "markdown",
   "id": "8a60381b-7fea-4f50-8b76-ca2f335cf0de",
   "metadata": {},
   "source": [
    "## load data"
   ]
  },
  {
   "cell_type": "code",
   "execution_count": 11,
   "id": "cf8cd364-7c86-49da-a658-ed22c94e1c00",
   "metadata": {},
   "outputs": [],
   "source": [
    "codes = eurostat.get_toc_df()\n",
    "[i for i in codes['title'] if 'interest'.lower() in i.lower()];\n",
    "codes[codes['title'] == 'Interest rates - monthly data'];"
   ]
  },
  {
   "cell_type": "markdown",
   "id": "83d0d242-4755-4d76-b0c7-1f35f0286b21",
   "metadata": {},
   "source": [
    "#### The Harmonised Index of Consumer Prices (EUROSTAT, 2024)\n",
    "This monthly series gives comparable measures of inflation calculated from the set of Consumer Price Indicies. It is an indicator of inflation that measures the change over time of consumer goods and services. Importantly, the HICP is the official measure of consumer price inflation in the euro area for the purposes of monetary policy and hence is the most suitable measure for the policy rule. "
   ]
  },
  {
   "cell_type": "code",
   "execution_count": 12,
   "id": "81d26df8-da0d-42e0-ac9b-d3096520b66f",
   "metadata": {},
   "outputs": [],
   "source": [
    "# cpi\n",
    "data = eurostat.get_data('PRC_HICP_MIDX', filter_pars={'geo': ['EA20']})\n",
    "df = pd.DataFrame(data[1:], columns=data[0])\n",
    "cpi = df[(df['freq'] == 'M') & (df['unit'] == 'I05') & (df['geo\\\\TIME_PERIOD'] == 'EA20') & (df['coicop'] == 'CP00')].T.dropna().iloc[4:]\n",
    "cpi.columns = ['cpi']\n",
    "cpi.index = [datetime.strptime(x, \"%Y-%m\") for x in cpi.index]\n",
    "\n",
    "save_pd_df(cpi.reset_index(names=['date']), 'cpi.feather')"
   ]
  },
  {
   "cell_type": "markdown",
   "id": "b75182b9-2638-4ec4-a405-3bd733fe92b7",
   "metadata": {},
   "source": [
    "#### Private Sector Credit Flow (EUROSTAT, 2024)\n",
    "The private sector credit flow represents the net amount of liabilities (debt securities and loans) in which the sectors Non-financial corporations and households and non-profit serving households have incurred throughout the year. \n",
    "\n",
    "The TIPSPC20 is presented both as percent of GDP and in millions of units of national currency (MIO_NAC), which is utilised here. The institutional sectors taken into account are non-financial corporations (principal activity is production of goods and non-financial services), households and non-profit institutions serving households (principal resources are voluntary contributions in cash or in kind).\n",
    "\n",
    "This annual series is key for policy makers to monitor the growth of credit in an economy, assess financial stability and contextualise decisions surrounding monetary policy, like the setting of interest rates."
   ]
  },
  {
   "cell_type": "code",
   "execution_count": 13,
   "id": "9551e7b1-7242-48df-b06f-b2433cc82538",
   "metadata": {},
   "outputs": [],
   "source": [
    "# private sector credit\n",
    "filt = 'TIPSPC20'\n",
    "data = eurostat.get_data(filt) #, filter_pars={'geo': ['EA19']})\n",
    "df = pd.DataFrame(data).T.set_index(0).T\n",
    "pc_gdp = df[(df['geo\\\\TIME_PERIOD'] == 'EA20') & (df['unit'] == \"MIO_NAC\")].T.iloc[7:]\n",
    "pc_gdp.columns = ['pc_gdp']\n",
    "pc_gdp.index = [datetime(int(str(x)),1,1) for x in pc_gdp.index]\n",
    "\n",
    "save_pd_df(pc_gdp.reset_index(names=['date']), 'pc_gdp.feather')"
   ]
  },
  {
   "cell_type": "markdown",
   "id": "814cd4d5-0abd-4f87-bc88-cd14b5a1f9fc",
   "metadata": {},
   "source": [
    "#### General Government Gross Debt (EUROSTAT, 2024)\n",
    "Government debt is the total consolidated gross debt at nominal (face) value outstanding at the end of the year and consolidated between, and within the sectors of general government. The data is in millions of national currency (MIO_NAC).\n",
    "\n",
    "The government debt has implications for fiscal policy. High levels of debt to GDP imply difficulty in meeting budgetary requirements and may precede lower levels of consumer confidence."
   ]
  },
  {
   "cell_type": "code",
   "execution_count": 14,
   "id": "5239474d-59ee-49e5-8ed3-45eefb43403d",
   "metadata": {},
   "outputs": [],
   "source": [
    "# public debt to gdp\n",
    "filt = 'TIPSGO20'\n",
    "data = eurostat.get_data(filt) #, filter_pars={'geo': ['EA19']})\n",
    "df = pd.DataFrame(data).T.set_index(0).T\n",
    "pd_gdp = df[(df['unit'] == \"MIO_NAC\")].T.iloc[7:].dropna().sum(axis=1).rename('pd_gdp')\n",
    "pd_gdp = pd.DataFrame(pd_gdp)\n",
    "pd_gdp.index = [datetime(int(x[:4]), int(x[-1])*3-2, 1) for x in pd_gdp.index]\n",
    "\n",
    "save_pd_df(pd_gdp.reset_index(names=['date']), 'pd_gdp.feather')"
   ]
  },
  {
   "cell_type": "markdown",
   "id": "8b7886a4-3ef1-48de-b884-333066efdedd",
   "metadata": {},
   "source": [
    "#### Gross Domestic Product (GDP) at Market Prices (EUROSTAT, 2024)\n",
    "This is a quarterly time series measured in current prices in millions of units of national currency. GDP is a measure of production activity of resident producers and defines the value of all goods and services produced in the Euro area. This data is seasonally adjusted."
   ]
  },
  {
   "cell_type": "code",
   "execution_count": 15,
   "id": "3a325d16-7e98-4bc6-91ab-91dc09559cb4",
   "metadata": {},
   "outputs": [],
   "source": [
    "# gdp\n",
    "filt = 'TIPSAU20'\n",
    "data = eurostat.get_data(filt) #, filter_pars={'geo': ['EA19']})\n",
    "df = pd.DataFrame(data).T.set_index(0).T\n",
    "gdp = df[(df['s_adj'] == \"NSA\")]\n",
    "gdp = gdp.iloc[:, 5:].rename(columns={'geo\\TIME_PERIOD': 'country'})\n",
    "gdp = pd.DataFrame(gdp.sum(), columns=['gdp'])\n",
    "gdp.index = [datetime(int(x[:4]), int(x[-1])*3-2, 1) for x in gdp.index]\n",
    "\n",
    "save_pd_df(gdp.reset_index(names=['date']), 'gdp.feather')"
   ]
  },
  {
   "cell_type": "markdown",
   "id": "60fbe958-ea2d-4df0-bcc4-4164fca366af",
   "metadata": {},
   "source": [
    "#### Interest Rates (EUROSTAT, 2024)\n",
    "This is a seasonally unadjusted monthly time series of 3-month averaged interest rates. The indicator extracted is the short-term interest rates. This is the day-to-day money market interest rates. It is an average for the euro area (Euro OverNight Index Average) and then averaged over 3-months. "
   ]
  },
  {
   "cell_type": "code",
   "execution_count": 16,
   "id": "335247a0-536c-4599-81d1-bb9420870553",
   "metadata": {},
   "outputs": [],
   "source": [
    "# interest rates\n",
    "filt = 'EI_MFIR_M'\n",
    "data = eurostat.get_data(filt) #, filter_pars={'geo': ['EA19']})\n",
    "df = pd.DataFrame(data).T.set_index(0).T\n",
    "ir = df[(df['geo\\\\TIME_PERIOD'] != \"EA28\") & (df['geo\\\\TIME_PERIOD'] != \"EU27_2020\") & (df['indic'] == \"MF-3MI-RT\")]\n",
    "ir = pd.DataFrame(ir.iloc[:, 5:].median(axis=0), columns=['ir'])\n",
    "ir.index = [datetime(int(x[:4]), int(x[-2:]), 1) for x in ir.index]\n",
    "ir /= 100\n",
    "\n",
    "save_pd_df(ir.reset_index(names=['date']), 'ir.feather')"
   ]
  },
  {
   "cell_type": "markdown",
   "id": "c0193516-80fb-4a9a-b756-da88d2d473a5",
   "metadata": {},
   "source": [
    "## Summary of Datasets\n",
    "The description of the data is presented here. However, the data can be downloaded, and transformations performed, directly with this notebook using the eurostat package. In other words, the results are replicable with this notebook alone.\n",
    "\n",
    "| Eurostat Code | Link | Description | Frequency | Transformation |\n",
    "| --- | --- | --- | --- | --- |\n",
    "| PRC_HICP_MIDX | https://ec.europa.eu/eurostat/databrowser/view/PRC_HICP_MIDX__custom_1439028/default/table?lang=en | Harmonised index of consumer prices (HICP) (prc_hicp)| Monthly | Logged and first differenced for monthly inflation rate. Later compounded for annualised inflation. | \n",
    "| TIPSPC20 | https://ec.europa.eu/eurostat/databrowser/view/tipspc20/default/table | Private sector credit flow (tipspc) | Annual || \n",
    "| TIPSGO20 | https://ec.europa.eu/eurostat/databrowser/view/tipsgo20/default/table?lang=en | General government gross debt (EDP concept), consolidated - quarterly data | Quarterly | | \n",
    "| TIPSAU20 | https://ec.europa.eu/eurostat/databrowser/view/tipsau20/default/table?lang=en&page=SCA | Gross domestic product (GDP) at market prices - quarterly data | Quarterly |  | \n",
    "| EI_MFIR_M | https://ec.europa.eu/eurostat/databrowser/view/EI_MFIR_M__custom_5797138/default/table?lang=en | Monetary and financial indicators (ei_mf). Interest rates monthly data. This dataset provides interest rates that are not seasonally adjusted for   | Monthly | | \n",
    "\n",
    "Reference: EUROSTAT, 2024"
   ]
  },
  {
   "cell_type": "markdown",
   "id": "ecb4233d-d90c-42dd-9e19-2bd14c60a4d7",
   "metadata": {},
   "source": [
    "## Merge"
   ]
  },
  {
   "cell_type": "code",
   "execution_count": 17,
   "id": "444558a2-6531-4d9b-b6fe-e1c778a195b4",
   "metadata": {
    "tags": []
   },
   "outputs": [],
   "source": [
    "df = pd.DataFrame(index=pd.date_range(start=datetime(1999,1,1), end=datetime.today()))\n",
    "for d in ['cpi', 'ir', 'gdp', 'pd_gdp', 'pc_gdp']:\n",
    "    df = df.join(load_pd_df(f'{d}.feather').set_index('date'))\n",
    "df = df.dropna(thresh=1)"
   ]
  },
  {
   "cell_type": "markdown",
   "id": "66b12758-ad91-45b7-9b24-a17f20102133",
   "metadata": {},
   "source": []
  },
  {
   "attachments": {},
   "cell_type": "markdown",
   "id": "ed4a4e7d-f8c1-4be0-9ee1-e46274cdd940",
   "metadata": {
    "tags": []
   },
   "source": [
    "## Transformations\n",
    "Here, we take the difference in the logged Consumer Price Index to calculate the monthly inflation rate.\n",
    "\n",
    "For GDP, the Hodrick-Prescott (HP) filter is applied to separate the series into the cyclical component and trend (Hodrick and Prescott, 1997). The trend component contains a deterministic of stochastic trend and is supposed to be more sensitive to long-term fluctuations than short-term. The filter is the solution to the following problem:\n",
    "$$\n",
    "y_{t} = \\tau_{t} + c_{t}\n",
    "$$ $$\n",
    "min_{\\{\\tau_{t}\\}} \\{ \\Sigma^{T}_{t=1} (y_{t} - \\tau_{t})^2 + \\lambda \\Sigma^{T-1}_{t=2} [(\\tau_{t+1} - \\tau_{t}) - (\\tau_{t} - \\tau_{t-1})]^{2} \\}\n",
    "$$\n",
    "\n",
    "where $y_t$ is the original series, $\\tau_{t}$ is the trend component and $c_{t}$ is the cyclical component. The HP filter minimises the deviation of the original series from the trend as well as the curvature of the estimated trend (OECD, 2019). The cyclical component is renamed gdp_cyc and the trend component renamed gdp_trend."
   ]
  },
  {
   "cell_type": "code",
   "execution_count": 18,
   "id": "81fde6ab-2583-434b-a267-6e9c300432b5",
   "metadata": {},
   "outputs": [],
   "source": [
    "#Note for Lukas: df = df.join(trend.rename('gdp_trend')) was originally df = df.join(cyc.rename('gdp_trend')). There was a mistake in the code."
   ]
  },
  {
   "cell_type": "code",
   "execution_count": 19,
   "id": "4fcaf928-18d1-47bd-a4a4-6f56d3f04369",
   "metadata": {
    "tags": []
   },
   "outputs": [],
   "source": [
    "df['pi_M'] = np.log(df.cpi).diff()\n",
    "\n",
    "cyc, trend = hpfilter(np.log(df.gdp.dropna()))\n",
    "df = df.join(cyc.rename('gdp_cyc'))\n",
    "df = df.join(trend.rename('gdp_trend'))\n",
    "df['ir_diff'] = df.ir.diff()\n",
    "\n",
    "df['M'] = df.index.month"
   ]
  },
  {
   "cell_type": "code",
   "execution_count": 20,
   "id": "e49b2cbb-6eb0-4ed5-88d1-ff221d98c47e",
   "metadata": {
    "tags": []
   },
   "outputs": [],
   "source": [
    "## astype"
   ]
  },
  {
   "cell_type": "code",
   "execution_count": 21,
   "id": "e91575d8-d315-47b1-9105-d5594ea01a1d",
   "metadata": {
    "tags": []
   },
   "outputs": [],
   "source": [
    "dict_parse = {'cpi': float,\n",
    " 'ir': float,\n",
    " 'gdp': float,\n",
    " 'pd_gdp': float,\n",
    " 'pc_gdp': float,\n",
    " 'pi_M': float,\n",
    "'pi_M': float,\n",
    " 'gdp_cyc': float,\n",
    " 'gdp_trend': float,\n",
    " 'M': 'category'}"
   ]
  },
  {
   "cell_type": "code",
   "execution_count": 22,
   "id": "d90fef21-ffc4-4b80-8190-bd7f3eea5980",
   "metadata": {
    "tags": []
   },
   "outputs": [],
   "source": [
    "df = df.astype(dict_parse)\n",
    "df = df.asfreq('MS')"
   ]
  },
  {
   "cell_type": "markdown",
   "id": "7338a189-0154-40ed-bd55-91975254a809",
   "metadata": {},
   "source": [
    "# Question 2\n",
    "\"Check if there is seasonal adjustment or not: you may regress your time series on seasonal dummies. CHECK if the scale of the time series is comparable: for example, monthly Inflation is not multiplied by 12 to have an \"annual\" scale for this monthly data, whereas the monthly Fed funds rate is multiplied by 12. You will have incredible REAL interest rates. COMMENT. Then adjust for the same scale, because in regressions, the ratio of standard errors of each variables will be multiplied or divided by 12 because of these difference of scale.\""
   ]
  },
  {
   "cell_type": "markdown",
   "id": "f1a048a5-2fec-46a0-a792-ffaad49f817b",
   "metadata": {},
   "source": [
    "pi_M is a variable created from the monthly CPI index PRC_HICP_MIDX. It is the first difference of the logged CPI giving us the monthly inflation rate. In calculating inflation in this way, we have avoided the annualisation of monthly inflation rates. The figure commonly presented by central banks is the yearly inflation for a given month. They say \"inflation this month is 4%\". This does not mean that prices are going to rise by 4% this month, it means that as of this month, prices are expected to rise by 4% over the year given the monthly change in CPI. As it stands, estimating the policy rule from the monthly inflation data but with an annualised interest rate would give us an extreme policy rule. The 'F' parameter that we saw in class would be extremely large because we would be using interest rates over one year as a response to inflation over one month.\n",
    "\n",
    "The inflation rate must be adjusted so that it coincides with the interest rate being annualsied. To do this, the inflation rate is compounded over the previous 12 months. We lose the first 12 months of observations, and the first pi_Y observation we have for 2000-12-01 is the product of 1+pi_M for the 12 previous months. We now have a match between the annualised interest rate and annualised inflation rate.\n",
    "\n",
    "Following this, we check for seasonality. Seasonal adjustment to data attempts to remove predictable seasonal patterns from data. Seasonal adjustments make it easier to observe the cyclical, underlying trend, and other nonseasonal movements in the series.(Bureau of Labor Statistics, 2022).\n",
    "\n",
    "There is clear cyclicality in the series. For the monthly inflation, all the monthly dummy coefficients are significant at least to the 90% confidence level. Only one has a p-value above 0.01. The residuals of the OLS regression are saved as pi_M_resid, the non-cylical monthly (non-annualised) inflation rate. Note that no constant is included in these regressions to avoid the dummy variable trap. The dummy variable trap occurs if there are N categories and each observation falls in one of the N categories but no more. If we use all N dummy variables as regressors and include a constant, then the regressors will fail because of perfect multicollinearity. To avoid this, use N dummies and no constant, or N-1 dummies and a constant (Stock & Watson, 2020).\n",
    "\n",
    "The same can be said for GDP_cyc. There is some degree of seasonality detected by an OLS with quarterly dummies after the HP filter's application, but only half of the coefficients are significant. For the GDP_trend, which should be the long-run trend of GDP and be unchanged by quarterly variations, all coefficients are significant suggesting the HP filter has been unsuccessful in extracting the seasonality component. The residuals from both regressions are extracted for cyclical and trend GDP with seasonality removed."
   ]
  },
  {
   "cell_type": "code",
   "execution_count": 23,
   "id": "70720203-761e-4331-920e-dfefa0f8e739",
   "metadata": {
    "scrolled": true
   },
   "outputs": [
    {
     "data": {
      "text/plain": [
       "1999-01-01         NaN\n",
       "1999-02-01         NaN\n",
       "1999-03-01         NaN\n",
       "1999-04-01         NaN\n",
       "1999-05-01         NaN\n",
       "                ...   \n",
       "2023-11-01   -0.005588\n",
       "2023-12-01    0.001639\n",
       "2024-01-01   -0.003622\n",
       "2024-02-01    0.006279\n",
       "2024-03-01         NaN\n",
       "Freq: MS, Name: pi_M, Length: 303, dtype: float64"
      ]
     },
     "execution_count": 23,
     "metadata": {},
     "output_type": "execute_result"
    }
   ],
   "source": [
    "df['pi_M']"
   ]
  },
  {
   "cell_type": "code",
   "execution_count": 24,
   "id": "44200e99-49bf-45f3-9d58-9064ac3dcb25",
   "metadata": {
    "tags": []
   },
   "outputs": [
    {
     "name": "stdout",
     "output_type": "stream",
     "text": [
      "pi_M \n",
      "                             OLS Regression Results                            \n",
      "==============================================================================\n",
      "Dep. Variable:                   pi_M   R-squared:                       0.623\n",
      "Model:                            OLS   Adj. R-squared:                  0.608\n",
      "Method:                 Least Squares   F-statistic:                     41.69\n",
      "Date:                Sun, 14 Apr 2024   Prob (F-statistic):           1.66e-52\n",
      "Time:                        23:34:20   Log-Likelihood:                 1288.7\n",
      "No. Observations:                 290   AIC:                            -2553.\n",
      "Df Residuals:                     278   BIC:                            -2509.\n",
      "Df Model:                          11                                         \n",
      "Covariance Type:            nonrobust                                         \n",
      "==============================================================================\n",
      "                 coef    std err          t      P>|t|      [0.025      0.975]\n",
      "------------------------------------------------------------------------------\n",
      "const          0.0027      0.001      4.574      0.000       0.002       0.004\n",
      "m_1           -0.0086      0.001    -10.313      0.000      -0.010      -0.007\n",
      "m_2            0.0011      0.001      1.285      0.200      -0.001       0.003\n",
      "m_3            0.0064      0.001      7.661      0.000       0.005       0.008\n",
      "m_4            0.0015      0.001      1.798      0.073      -0.000       0.003\n",
      "m_5           -0.0007      0.001     -0.827      0.409      -0.002       0.001\n",
      "m_6           -0.0011      0.001     -1.309      0.192      -0.003       0.001\n",
      "m_7           -0.0057      0.001     -6.814      0.000      -0.007      -0.004\n",
      "m_8           -0.0012      0.001     -1.403      0.162      -0.003       0.000\n",
      "m_9            0.0010      0.001      1.166      0.245      -0.001       0.003\n",
      "m_10          -0.0002      0.001     -0.214      0.831      -0.002       0.001\n",
      "m_11          -0.0038      0.001     -4.546      0.000      -0.005      -0.002\n",
      "==============================================================================\n",
      "Omnibus:                       60.181   Durbin-Watson:                   1.357\n",
      "Prob(Omnibus):                  0.000   Jarque-Bera (JB):              212.717\n",
      "Skew:                           0.846   Prob(JB):                     6.44e-47\n",
      "Kurtosis:                       6.840   Cond. No.                         13.0\n",
      "==============================================================================\n",
      "\n",
      "Notes:\n",
      "[1] Standard Errors assume that the covariance matrix of the errors is correctly specified.\n",
      "gdp_cyc \n",
      "                             OLS Regression Results                            \n",
      "==============================================================================\n",
      "Dep. Variable:                gdp_cyc   R-squared:                       0.811\n",
      "Model:                            OLS   Adj. R-squared:                  0.805\n",
      "Method:                 Least Squares   F-statistic:                     137.6\n",
      "Date:                Sun, 14 Apr 2024   Prob (F-statistic):           1.21e-34\n",
      "Time:                        23:34:20   Log-Likelihood:                 234.86\n",
      "No. Observations:                 100   AIC:                            -461.7\n",
      "Df Residuals:                      96   BIC:                            -451.3\n",
      "Df Model:                           3                                         \n",
      "Covariance Type:            nonrobust                                         \n",
      "==============================================================================\n",
      "                 coef    std err          t      P>|t|      [0.025      0.975]\n",
      "------------------------------------------------------------------------------\n",
      "const          0.0628      0.005     13.310      0.000       0.053       0.072\n",
      "m_1           -0.1348      0.007    -20.203      0.000      -0.148      -0.122\n",
      "m_4           -0.0615      0.007     -9.212      0.000      -0.075      -0.048\n",
      "m_7           -0.0549      0.007     -8.233      0.000      -0.068      -0.042\n",
      "==============================================================================\n",
      "Omnibus:                       55.010   Durbin-Watson:                   0.942\n",
      "Prob(Omnibus):                  0.000   Jarque-Bera (JB):              302.689\n",
      "Skew:                          -1.670   Prob(JB):                     1.87e-66\n",
      "Kurtosis:                      10.842   Cond. No.                         4.79\n",
      "==============================================================================\n",
      "\n",
      "Notes:\n",
      "[1] Standard Errors assume that the covariance matrix of the errors is correctly specified.\n",
      "gdp_trend \n",
      "                             OLS Regression Results                            \n",
      "==============================================================================\n",
      "Dep. Variable:              gdp_trend   R-squared:                       0.002\n",
      "Model:                            OLS   Adj. R-squared:                 -0.029\n",
      "Method:                 Least Squares   F-statistic:                   0.06938\n",
      "Date:                Sun, 14 Apr 2024   Prob (F-statistic):              0.976\n",
      "Time:                        23:34:20   Log-Likelihood:                -45.045\n",
      "No. Observations:                 100   AIC:                             98.09\n",
      "Df Residuals:                      96   BIC:                             108.5\n",
      "Df Model:                           3                                         \n",
      "Covariance Type:            nonrobust                                         \n",
      "==============================================================================\n",
      "                 coef    std err          t      P>|t|      [0.025      0.975]\n",
      "------------------------------------------------------------------------------\n",
      "const         16.3863      0.077    211.445      0.000      16.233      16.540\n",
      "m_1           -0.0474      0.110     -0.433      0.666      -0.265       0.170\n",
      "m_4           -0.0317      0.110     -0.289      0.773      -0.249       0.186\n",
      "m_7           -0.0159      0.110     -0.145      0.885      -0.233       0.202\n",
      "==============================================================================\n",
      "Omnibus:                        2.149   Durbin-Watson:                   0.007\n",
      "Prob(Omnibus):                  0.342   Jarque-Bera (JB):                1.552\n",
      "Skew:                           0.080   Prob(JB):                        0.460\n",
      "Kurtosis:                       2.411   Cond. No.                         4.79\n",
      "==============================================================================\n",
      "\n",
      "Notes:\n",
      "[1] Standard Errors assume that the covariance matrix of the errors is correctly specified.\n"
     ]
    }
   ],
   "source": [
    "for col in ['pi_M', 'gdp_cyc', 'gdp_trend']:\n",
    "    sub = df[[col, 'M']].dropna().copy()\n",
    "    sub['M'] = sub.M.astype(int).astype('category')\n",
    "    sub = sub.drop('M', axis=1).join(pd.get_dummies(sub['M'], prefix='m').iloc[:, :-1])\n",
    "    x = sub.drop(col, axis=1)\n",
    "    X = sm.add_constant(x).astype(int)\n",
    "    ols = OLS(sub[col], X).fit()\n",
    "\n",
    "    \n",
    "    df = df.join(ols.resid.rename(f'{col}_resid'))\n",
    "    print(col, '\\n', ols.summary())"
   ]
  },
  {
   "cell_type": "markdown",
   "id": "d0f53401-807a-48d5-8af2-0246f04718b9",
   "metadata": {},
   "source": [
    "It is in the cell below that the annualised monthly inflation rate is calculated by compounding the monthly inflation rate. The compound annual growth rate formula is:\n",
    "$$\n",
    "\\pi_Y = (\\Pi^{12}_{i=1} (1+\\pi_{M_i})) -1\n",
    "$$\n",
    "where a rolling product is used over the last 12 months. In this way, the inflation rate for the december is reflective of the overall inflation rate since January. The value of $\\pi_Y$ for January is the product of all of the monthly inflation rates since February of the previous year et cetera."
   ]
  },
  {
   "cell_type": "code",
   "execution_count": 25,
   "id": "081b8038-5fb7-4fa7-bf33-6d8704da9ce6",
   "metadata": {},
   "outputs": [
    {
     "name": "stdout",
     "output_type": "stream",
     "text": [
      "pi_Y \n",
      "                             OLS Regression Results                            \n",
      "==============================================================================\n",
      "Dep. Variable:                   pi_Y   R-squared:                       0.000\n",
      "Model:                            OLS   Adj. R-squared:                 -0.041\n",
      "Method:                 Least Squares   F-statistic:                  0.001623\n",
      "Date:                Sun, 14 Apr 2024   Prob (F-statistic):               1.00\n",
      "Time:                        23:34:21   Log-Likelihood:                 712.21\n",
      "No. Observations:                 279   AIC:                            -1400.\n",
      "Df Residuals:                     267   BIC:                            -1357.\n",
      "Df Model:                          11                                         \n",
      "Covariance Type:            nonrobust                                         \n",
      "==============================================================================\n",
      "                 coef    std err          t      P>|t|      [0.025      0.975]\n",
      "------------------------------------------------------------------------------\n",
      "const          0.0213      0.004      5.423      0.000       0.014       0.029\n",
      "m_1           -0.0002      0.006     -0.033      0.973      -0.011       0.011\n",
      "m_2        -4.514e-05      0.006     -0.008      0.994      -0.011       0.011\n",
      "m_3        -6.553e-06      0.006     -0.001      0.999      -0.011       0.011\n",
      "m_4            0.0002      0.006      0.041      0.967      -0.011       0.011\n",
      "m_5            0.0002      0.006      0.033      0.973      -0.011       0.011\n",
      "m_6            0.0002      0.006      0.029      0.977      -0.011       0.011\n",
      "m_7         8.047e-05      0.006      0.014      0.989      -0.011       0.011\n",
      "m_8            0.0003      0.006      0.053      0.958      -0.011       0.011\n",
      "m_9            0.0003      0.006      0.047      0.962      -0.011       0.011\n",
      "m_10           0.0003      0.006      0.052      0.959      -0.011       0.011\n",
      "m_11       -6.829e-05      0.006     -0.012      0.990      -0.011       0.011\n",
      "==============================================================================\n",
      "Omnibus:                      134.914   Durbin-Watson:                   0.033\n",
      "Prob(Omnibus):                  0.000   Jarque-Bera (JB):              560.086\n",
      "Skew:                           2.075   Prob(JB):                    2.39e-122\n",
      "Kurtosis:                       8.564   Cond. No.                         12.7\n",
      "==============================================================================\n",
      "\n",
      "Notes:\n",
      "[1] Standard Errors assume that the covariance matrix of the errors is correctly specified.\n"
     ]
    }
   ],
   "source": [
    "df['pi_Y'] = (1+df.pi_M).rolling(12).apply(np.prod, raw=True) - 1\n",
    "#df['pi_Y'] = df.pi_M * 12\n",
    "#df['pi_Y_resid'] = (1+df.pi_M_resid).rolling(12).apply(np.prod, raw=True) - 1\n",
    "\n",
    "for col in ['pi_Y']:\n",
    "    sub = df[[col, 'M']].dropna().copy()\n",
    "    sub['M'] = sub.M.astype(int).astype('category')\n",
    "    sub = sub.drop('M', axis=1).join(pd.get_dummies(sub['M'], prefix='m').iloc[:, :-1])\n",
    "    x = sub.drop(col, axis=1)\n",
    "    X = sm.add_constant(x).astype(int)\n",
    "    ols = OLS(sub[col], X).fit()\n",
    "\n",
    "    \n",
    "    df = df.join(ols.resid.rename(f'{col}_resid'))\n",
    "    print(col, '\\n', ols.summary())\n",
    "   "
   ]
  },
  {
   "cell_type": "markdown",
   "id": "01741afb-52c5-4ebf-9854-27625278d899",
   "metadata": {},
   "source": [
    "Hence, the data we use forewards is as follows:\n",
    "\n",
    "| Data | Indicator| Range |\n",
    "|---|---|---|\n",
    "|Inflation Annualised (compounded)|pi_Y|2000-01-01 to 2024-02-01 |\n",
    "|inflation annualised (compounded)residuals from seasonality regression (deseasonalised)| pi_Y_resid| 2000-12-01 to 2024-02-01|\n",
    "|interest rate annualised| ir | 1999-01-01 to 2024-02-01|"
   ]
  },
  {
   "cell_type": "markdown",
   "id": "c6d20912-fe4b-4551-b155-d025e0e726b3",
   "metadata": {},
   "source": [
    "# Question 3"
   ]
  },
  {
   "cell_type": "markdown",
   "id": "68696ea0-fa8e-45d5-a9be-f9ba5f132912",
   "metadata": {},
   "source": [
    "\"Copy a plot of the two time series over time.\""
   ]
  },
  {
   "cell_type": "markdown",
   "id": "c1dd383b-75b6-47b5-80f1-9086a657268f",
   "metadata": {},
   "source": [
    "### Inflation and Interest Rates"
   ]
  },
  {
   "cell_type": "markdown",
   "id": "36e74784-22f1-40c7-847f-781ed8c0dcbb",
   "metadata": {},
   "source": [
    "Recall that pi_Y is the compounded monthly inflation rate, using the previous 12 months' inflation rate as the inputs and pi_Y_resid is the residual from the seasonality regression. Not much changes between pi_Y and pi_Y_resid. The explanatory power of the monthly dummies was so weak, and the $R^2$ was so low that the time series' movements are almost identical, all that changes is there is a translation along the y-axis. This is because the intercept, which is essentially the average inflation rate (which we could say is the 'target' inflation), is subtracted from the series when we take the residual. This means that our pi_y_resid series is just pi_Y $- 0.0213$. This is like taking 2% off the inflation rate which the ECB has as its inflation target.\n",
    "\n",
    "In the figure, we see stability in pi_Y at around 2% until the Global Financial Crisis in 2008. In 2008, the inflation rate rises initially, then cascades in mid-2008 towards the negatives in mid-2009. We can see from the descriptive statistics that the minimum inflation rate for pi_Y is -0.6%. The 'deviation from target' is -2.5%. Interest rates follow in a similar fashion, displaying what appears to be less variation than inflation, but tracking the trend of inflation to a large extent, falling to below 2% in 2009 and stauing there until the COVID-19 crisis and the extreme inflation beginning in 2021.\n",
    "\n",
    "Pre-2021, the interest rate (ir) is highly responsive to the inflation rate, displaying almost no delay and following the inflation rate in tandem. However, the rate was far more stubborn and flat following the GFC, and was much slower to respond after the surge in inflation following the COVID-19 crisis. Rates were historically low following the GFC to stimulate growth and to offset the contractionary fiscal policies necessitated by the costs of the financial crisis. Inflation rates remained at or below target, so the interest rates stayed just in the positive.\n",
    "\n",
    "Many banks were slow to respond to the inflationary surge following COVID-19 and the invasion of Ukraine because they wanted to ensure downside risks had declined (CEPR, 2024). The delays were to avoid acting too prematurely and exposing economies with already weakened monetary policy transmission mechanisms to financial market volatility, shocks and policy uncertainty. Confidence in the stability of inflation expectations and reluctance to change their guidance on the likely timing of rate increases and duration of asset purchases led to a more delayed but drawn-out response (CEPR, 2024)."
   ]
  },
  {
   "cell_type": "code",
   "execution_count": 26,
   "id": "9fd09e38-93a9-4e42-b07f-b6ba8a124afd",
   "metadata": {
    "tags": []
   },
   "outputs": [
    {
     "data": {
      "text/plain": [
       "<Axes: >"
      ]
     },
     "execution_count": 26,
     "metadata": {},
     "output_type": "execute_result"
    },
    {
     "data": {
      "image/png": "[encoded data removed]",
      "text/plain": [
       "<Figure size 1200x300 with 1 Axes>"
      ]
     },
     "metadata": {},
     "output_type": "display_data"
    }
   ],
   "source": [
    "df[['pi_Y', 'pi_Y_resid', 'ir']].plot()"
   ]
  },
  {
   "cell_type": "markdown",
   "id": "71fe1c9e-b896-40fb-bd2c-ecda3fd193f3",
   "metadata": {},
   "source": [
    "### GDP"
   ]
  },
  {
   "cell_type": "markdown",
   "id": "091ac6c7-de8e-4d4a-92db-715c550ed5d9",
   "metadata": {},
   "source": [
    "Below you can observe the time series of the trend and cyclical components of GDP. Using the HP filter, quarterly GDP was separated into the cyclical and trend components. Naturally the cyclical component shows cyclicality. The cycles appear to be yearly, \n",
    "\n",
    "The trend however is a much smoother curve that levels our a little after the global financial crisis but is convex following that. "
   ]
  },
  {
   "cell_type": "code",
   "execution_count": 27,
   "id": "323d4855-2ac3-4dd7-9be6-87e0d147ab30",
   "metadata": {},
   "outputs": [
    {
     "data": {
      "text/plain": [
       "<Axes: >"
      ]
     },
     "execution_count": 27,
     "metadata": {},
     "output_type": "execute_result"
    },
    {
     "data": {
      "image/png": "[encoded data removed]",
      "text/plain": [
       "<Figure size 1200x300 with 1 Axes>"
      ]
     },
     "metadata": {},
     "output_type": "display_data"
    }
   ],
   "source": [
    "df[['gdp']].dropna().plot()"
   ]
  },
  {
   "cell_type": "code",
   "execution_count": 28,
   "id": "2493d4b0-a644-46b0-a795-65ee453325b7",
   "metadata": {
    "tags": []
   },
   "outputs": [
    {
     "data": {
      "text/plain": [
       "<Axes: >"
      ]
     },
     "execution_count": 28,
     "metadata": {},
     "output_type": "execute_result"
    },
    {
     "data": {
      "image/png": "[encoded data removed]",
      "text/plain": [
       "<Figure size 1200x300 with 1 Axes>"
      ]
     },
     "metadata": {},
     "output_type": "display_data"
    }
   ],
   "source": [
    "df[['gdp_cyc_resid', 'gdp_cyc']].dropna().plot()"
   ]
  },
  {
   "cell_type": "code",
   "execution_count": 29,
   "id": "5e6d8100-b8e3-4481-b6f7-c6e3764df9e8",
   "metadata": {},
   "outputs": [
    {
     "data": {
      "text/plain": [
       "<Axes: >"
      ]
     },
     "execution_count": 29,
     "metadata": {},
     "output_type": "execute_result"
    },
    {
     "data": {
      "image/png": "[encoded data removed]",
      "text/plain": [
       "<Figure size 1200x300 with 1 Axes>"
      ]
     },
     "metadata": {},
     "output_type": "display_data"
    }
   ],
   "source": [
    "df[['gdp_trend']].dropna().plot()"
   ]
  },
  {
   "cell_type": "markdown",
   "id": "b66a2f05-921a-4bda-8a18-b689d4bf3787",
   "metadata": {},
   "source": [
    "# Question 4"
   ]
  },
  {
   "cell_type": "markdown",
   "id": "b272d9b1-0302-4fa5-856e-646b1a76d189",
   "metadata": {},
   "source": [
    "\"Report in a table univariate summary statistics: min max mean median standard errors of policy target and policy instrument.\""
   ]
  },
  {
   "cell_type": "code",
   "execution_count": 30,
   "id": "c3b9a783-1b1b-436c-9eb0-66e4d3298c12",
   "metadata": {
    "tags": []
   },
   "outputs": [
    {
     "data": {
      "text/html": [
       "<div>\n",
       "<style scoped>\n",
       "    .dataframe tbody tr th:only-of-type {\n",
       "        vertical-align: middle;\n",
       "    }\n",
       "\n",
       "    .dataframe tbody tr th {\n",
       "        vertical-align: top;\n",
       "    }\n",
       "\n",
       "    .dataframe thead th {\n",
       "        text-align: right;\n",
       "    }\n",
       "</style>\n",
       "<table border=\"1\" class=\"dataframe\">\n",
       "  <thead>\n",
       "    <tr style=\"text-align: right;\">\n",
       "      <th></th>\n",
       "      <th>pi_Y_resid</th>\n",
       "      <th>pi_Y</th>\n",
       "      <th>ir</th>\n",
       "    </tr>\n",
       "  </thead>\n",
       "  <tbody>\n",
       "    <tr>\n",
       "      <th>count</th>\n",
       "      <td>2.790000e+02</td>\n",
       "      <td>279.000000</td>\n",
       "      <td>279.000000</td>\n",
       "    </tr>\n",
       "    <tr>\n",
       "      <th>mean</th>\n",
       "      <td>9.973106e-18</td>\n",
       "      <td>0.021418</td>\n",
       "      <td>0.022745</td>\n",
       "    </tr>\n",
       "    <tr>\n",
       "      <th>std</th>\n",
       "      <td>1.887598e-02</td>\n",
       "      <td>0.018877</td>\n",
       "      <td>0.018911</td>\n",
       "    </tr>\n",
       "    <tr>\n",
       "      <th>min</th>\n",
       "      <td>-2.766090e-02</td>\n",
       "      <td>-0.006284</td>\n",
       "      <td>0.000380</td>\n",
       "    </tr>\n",
       "    <tr>\n",
       "      <th>25%</th>\n",
       "      <td>-1.003936e-02</td>\n",
       "      <td>0.011373</td>\n",
       "      <td>0.004700</td>\n",
       "    </tr>\n",
       "    <tr>\n",
       "      <th>50%</th>\n",
       "      <td>-1.694397e-03</td>\n",
       "      <td>0.019786</td>\n",
       "      <td>0.016902</td>\n",
       "    </tr>\n",
       "    <tr>\n",
       "      <th>75%</th>\n",
       "      <td>3.310514e-03</td>\n",
       "      <td>0.024804</td>\n",
       "      <td>0.039695</td>\n",
       "    </tr>\n",
       "    <tr>\n",
       "      <th>max</th>\n",
       "      <td>8.398968e-02</td>\n",
       "      <td>0.105601</td>\n",
       "      <td>0.060617</td>\n",
       "    </tr>\n",
       "  </tbody>\n",
       "</table>\n",
       "</div>"
      ],
      "text/plain": [
       "         pi_Y_resid        pi_Y          ir\n",
       "count  2.790000e+02  279.000000  279.000000\n",
       "mean   9.973106e-18    0.021418    0.022745\n",
       "std    1.887598e-02    0.018877    0.018911\n",
       "min   -2.766090e-02   -0.006284    0.000380\n",
       "25%   -1.003936e-02    0.011373    0.004700\n",
       "50%   -1.694397e-03    0.019786    0.016902\n",
       "75%    3.310514e-03    0.024804    0.039695\n",
       "max    8.398968e-02    0.105601    0.060617"
      ]
     },
     "execution_count": 30,
     "metadata": {},
     "output_type": "execute_result"
    }
   ],
   "source": [
    "df[['pi_Y_resid', 'pi_Y', 'ir']].dropna().describe()"
   ]
  },
  {
   "cell_type": "code",
   "execution_count": 31,
   "id": "9a920324-ac05-4c04-a65b-0abbbefeafb5",
   "metadata": {},
   "outputs": [
    {
     "name": "stdout",
     "output_type": "stream",
     "text": [
      "DatetimeIndex(['2009-06-01', '2009-07-01', '2009-08-01', '2009-09-01',\n",
      "               '2009-10-01', '2014-12-01', '2015-01-01', '2015-02-01',\n",
      "               '2015-03-01', '2016-02-01', '2016-03-01', '2016-04-01',\n",
      "               '2016-05-01', '2020-08-01', '2020-09-01', '2020-10-01',\n",
      "               '2020-11-01', '2020-12-01'],\n",
      "              dtype='datetime64[ns]', freq=None)\n"
     ]
    }
   ],
   "source": [
    "negative_pi_Y_dates = df[df['pi_Y'] < 0].index\n",
    "print(negative_pi_Y_dates)"
   ]
  },
  {
   "cell_type": "markdown",
   "id": "4724e2d0-14fe-472a-b79b-748dd6b9b719",
   "metadata": {},
   "source": [
    "Dropping the observations for which inflation is missing, we are left with 279 monthly observations for interest rates, annualised inflation and annualised residual inflation. As mentioned above, the mean for pi_Y should be about 2% higher than the mean for pi_Y_resid because of the intercept term being almost an average of the inflation rate across the time series. This is observed here in this table.\n",
    "\n",
    "The mean interest rate slightly exceeds the mean inflation rate despite the slow response following COVID. This is observed in the plot above with the interest rate line being above the inflation rate lines until the end of the sample. Median inflation and interest rates are around 2% and 1.7% respectively.\n",
    "\n",
    "Throughout our sample, interest rates never exceed the zero lower bound. The lowest interest rate is 0.038%, practically zero. Inflation on the other hand does fall below zero. pi_Y reaches the negative both in 2009 and also in late 2014, 2015 and 2016. During this period there was simultaneously low inflation and low interest rates. Inflation is also negative during the COVID lockdowns from mid to late 2020."
   ]
  },
  {
   "cell_type": "markdown",
   "id": "8c9f9313-cc22-4ffb-8b59-a24b83583a93",
   "metadata": {},
   "source": [
    "# Question 5"
   ]
  },
  {
   "cell_type": "markdown",
   "id": "dda30ca1-f093-4726-b4e8-6e81c51dc0bd",
   "metadata": {},
   "source": [
    "\"Estimate on the full period an AR(1) process and estimate the auto-correlation of its residual (let's denote it: AR(1)-AR(1))\""
   ]
  },
  {
   "cell_type": "markdown",
   "id": "72574f8f-ca74-4de7-ab4f-ab5df7c51499",
   "metadata": {},
   "source": [
    "The series are first examined for presensce of a unit root. We do not expect a unit root given the graphs of the time series above and the Augmented Dickey Fuller tests confirm this. In no case are we able to reject the null that there is presence of a unit root."
   ]
  },
  {
   "cell_type": "code",
   "execution_count": 32,
   "id": "3491cb0b-7557-4547-b821-e44aabeb01fe",
   "metadata": {
    "tags": []
   },
   "outputs": [],
   "source": [
    "lst_q5_cols = ['pi_Y', 'pi_Y_resid', 'ir']"
   ]
  },
  {
   "cell_type": "code",
   "execution_count": 33,
   "id": "172c4877-e923-4280-9e52-0529dd43b8c6",
   "metadata": {
    "tags": []
   },
   "outputs": [
    {
     "name": "stdout",
     "output_type": "stream",
     "text": [
      "-----------------------------------------------------------------------------\n",
      "ADF Test PI_Y: H0 there is a unit root\n",
      "-----------------------------------------------------------------------------\n",
      "                        adf-stat  p-value  lags    obs     1%     5%    10%\n",
      "constant                  -1.842    0.360  12.0  266.0 -3.455 -2.872 -2.573\n",
      "constant trend            -1.954    0.626  12.0  266.0 -3.993 -3.427 -3.137\n",
      "constant ltend, qtrend    -2.900    0.345  12.0  266.0 -4.415 -3.855 -3.567\n",
      "none                      -0.686    0.418  12.0  266.0 -2.574 -1.942 -1.616\n",
      "\n",
      "\n",
      "-----------------------------------------------------------------------------\n",
      "ADF Test PI_Y_RESID: H0 there is a unit root\n",
      "-----------------------------------------------------------------------------\n",
      "                        adf-stat  p-value  lags    obs     1%     5%    10%\n",
      "constant                  -1.827    0.367  12.0  266.0 -3.455 -2.872 -2.573\n",
      "constant trend            -1.941    0.633  12.0  266.0 -3.993 -3.427 -3.137\n",
      "constant ltend, qtrend    -2.888    0.351  12.0  266.0 -4.415 -3.855 -3.567\n",
      "none                      -1.862    0.060  12.0  266.0 -2.574 -1.942 -1.616\n",
      "\n",
      "\n",
      "-----------------------------------------------------------------------------\n",
      "ADF Test IR: H0 there is a unit root\n",
      "-----------------------------------------------------------------------------\n",
      "                        adf-stat  p-value  lags    obs     1%     5%    10%\n",
      "constant                  -1.848    0.357   6.0  296.0 -3.453 -2.871 -2.572\n",
      "constant trend            -1.213    0.908   6.0  296.0 -3.990 -3.425 -3.136\n",
      "constant ltend, qtrend    -2.297    0.681   6.0  296.0 -4.411 -3.852 -3.566\n",
      "none                      -1.129    0.235   6.0  296.0 -2.573 -1.942 -1.616\n",
      "\n",
      "\n"
     ]
    }
   ],
   "source": [
    "for col in lst_q5_cols:\n",
    "    adf_test_summary(df[col].dropna())"
   ]
  },
  {
   "cell_type": "markdown",
   "id": "091f25ac-dc82-4bb2-b513-b03117f474cd",
   "metadata": {},
   "source": [
    "The models estimated are:\n",
    "$$\n",
    "\\pi_{t+1} = \\lambda_{\\pi}\\pi_{t}+u_{t+1}  \\ \\ \\ with \\ \\ \\ u_{t+1} = \\rho_{\\pi}u_t +\\epsilon_{t+1} $$\n",
    "and for the 'residual' inflation\n",
    "$$\n",
    "\\pi^{resid}_{t+1} = \\lambda^{resid}_{\\pi}\\pi^{resid}_{t}+u_{t+1}  \\ \\ \\ with \\ \\ \\ u_{t+1} = \\rho^{resid}_{\\pi}u_t +\\epsilon_{t+1} $$\n",
    "and\n",
    "$$\n",
    "i_{t+1} = \\lambda_{i}i_{t}+u_{t+1}  \\ \\ \\ with \\ \\ \\ u_{t+1} = \\rho_{i}u_t +\\epsilon_{t+1} $$"
   ]
  },
  {
   "cell_type": "code",
   "execution_count": 36,
   "id": "21341d7a-bfa3-4cd2-b852-5113ad5fbe08",
   "metadata": {
    "tags": []
   },
   "outputs": [],
   "source": [
    "\n",
    "lst_mod_resid, lst_rho_lambda = [], []\n",
    "\n",
    "#for col in lst_q5_cols:    \n",
    "#    ar_var = ARIMA(df[col], order=(1,0,0), trend = 'n').fit()\n",
    "#    ar_res = ARIMA(ar_var.resid, order=(1,0,0), trend = 'n').fit()\n",
    "\n",
    "#    lst_mod_resid.append(ar_res)\n",
    "#    lst_rho_lambda.append((ar_var.params.loc['ar.L1'], ar_res.params.loc['ar.L1']))\n",
    "\n",
    "#summary_col(lst_mod_resid, model_names=lst_q5_cols, stars=True)"
   ]
  },
  {
   "cell_type": "code",
   "execution_count": 37,
   "id": "ba85a824-e463-4452-b576-ad34f63e0687",
   "metadata": {},
   "outputs": [
    {
     "name": "stdout",
     "output_type": "stream",
     "text": [
      "Model = pi_Y\n",
      "Summary for ARIMA model of pi_Y:\n",
      "                               SARIMAX Results                                \n",
      "==============================================================================\n",
      "Dep. Variable:                   pi_Y   No. Observations:                  303\n",
      "Model:                 ARIMA(1, 0, 0)   Log Likelihood                1184.818\n",
      "Date:                Sun, 14 Apr 2024   AIC                          -2365.636\n",
      "Time:                        23:34:58   BIC                          -2358.208\n",
      "Sample:                    01-01-1999   HQIC                         -2362.664\n",
      "                         - 03-01-2024                                         \n",
      "Covariance Type:                  opg                                         \n",
      "==============================================================================\n",
      "                 coef    std err          z      P>|z|      [0.025      0.975]\n",
      "------------------------------------------------------------------------------\n",
      "ar.L1          0.9927      0.004    227.779      0.000       0.984       1.001\n",
      "sigma2      1.181e-05   5.98e-07     19.739      0.000    1.06e-05     1.3e-05\n",
      "===================================================================================\n",
      "Ljung-Box (L1) (Q):                  28.31   Jarque-Bera (JB):               228.92\n",
      "Prob(Q):                              0.00   Prob(JB):                         0.00\n",
      "Heteroskedasticity (H):               6.32   Skew:                            -0.07\n",
      "Prob(H) (two-sided):                  0.00   Kurtosis:                         7.26\n",
      "===================================================================================\n",
      "\n",
      "Warnings:\n",
      "[1] Covariance matrix calculated using the outer product of gradients (complex-step).\n",
      "\n",
      "\n",
      "\n",
      "Summary for ARIMA model of residuals of pi_Y:\n",
      "                               SARIMAX Results                                \n",
      "==============================================================================\n",
      "Dep. Variable:                      y   No. Observations:                  303\n",
      "Model:                 ARIMA(1, 0, 0)   Log Likelihood                1170.738\n",
      "Date:                Sun, 14 Apr 2024   AIC                          -2337.476\n",
      "Time:                        23:34:58   BIC                          -2330.048\n",
      "Sample:                    01-01-1999   HQIC                         -2334.504\n",
      "                         - 03-01-2024                                         \n",
      "Covariance Type:                  opg                                         \n",
      "==============================================================================\n",
      "                 coef    std err          z      P>|z|      [0.025      0.975]\n",
      "------------------------------------------------------------------------------\n",
      "ar.L1          0.2300      0.037      6.248      0.000       0.158       0.302\n",
      "sigma2      1.326e-05   5.12e-07     25.910      0.000    1.23e-05    1.43e-05\n",
      "===================================================================================\n",
      "Ljung-Box (L1) (Q):                   0.44   Jarque-Bera (JB):              1329.54\n",
      "Prob(Q):                              0.51   Prob(JB):                         0.00\n",
      "Heteroskedasticity (H):               1.84   Skew:                             0.99\n",
      "Prob(H) (two-sided):                  0.00   Kurtosis:                        13.07\n",
      "===================================================================================\n",
      "\n",
      "Warnings:\n",
      "[1] Covariance matrix calculated using the outer product of gradients (complex-step).\n",
      "\n",
      "\n",
      "\n",
      "----------------------------------------------------------------------------------------------------\n",
      "----------------------------------------------------------------------------------------------------\n",
      "Model = pi_Y_resid\n",
      "Summary for ARIMA model of pi_Y_resid:\n",
      "                               SARIMAX Results                                \n",
      "==============================================================================\n",
      "Dep. Variable:             pi_Y_resid   No. Observations:                  303\n",
      "Model:                 ARIMA(1, 0, 0)   Log Likelihood                1186.549\n",
      "Date:                Sun, 14 Apr 2024   AIC                          -2369.097\n",
      "Time:                        23:34:58   BIC                          -2361.670\n",
      "Sample:                    01-01-1999   HQIC                         -2366.126\n",
      "                         - 03-01-2024                                         \n",
      "Covariance Type:                  opg                                         \n",
      "==============================================================================\n",
      "                 coef    std err          z      P>|z|      [0.025      0.975]\n",
      "------------------------------------------------------------------------------\n",
      "ar.L1          0.9834      0.006    163.275      0.000       0.972       0.995\n",
      "sigma2      1.168e-05   5.88e-07     19.854      0.000    1.05e-05    1.28e-05\n",
      "===================================================================================\n",
      "Ljung-Box (L1) (Q):                  29.88   Jarque-Bera (JB):               227.07\n",
      "Prob(Q):                              0.00   Prob(JB):                         0.00\n",
      "Heteroskedasticity (H):               6.60   Skew:                             0.08\n",
      "Prob(H) (two-sided):                  0.00   Kurtosis:                         7.24\n",
      "===================================================================================\n",
      "\n",
      "Warnings:\n",
      "[1] Covariance matrix calculated using the outer product of gradients (complex-step).\n",
      "\n",
      "\n",
      "\n",
      "Summary for ARIMA model of residuals of pi_Y_resid:\n",
      "                               SARIMAX Results                                \n",
      "==============================================================================\n",
      "Dep. Variable:                      y   No. Observations:                  303\n",
      "Model:                 ARIMA(1, 0, 0)   Log Likelihood                1201.247\n",
      "Date:                Sun, 14 Apr 2024   AIC                          -2398.493\n",
      "Time:                        23:34:58   BIC                          -2391.066\n",
      "Sample:                    01-01-1999   HQIC                         -2395.522\n",
      "                         - 03-01-2024                                         \n",
      "Covariance Type:                  opg                                         \n",
      "==============================================================================\n",
      "                 coef    std err          z      P>|z|      [0.025      0.975]\n",
      "------------------------------------------------------------------------------\n",
      "ar.L1          0.3063      0.046      6.618      0.000       0.216       0.397\n",
      "sigma2      1.063e-05   6.19e-07     17.171      0.000    9.42e-06    1.18e-05\n",
      "===================================================================================\n",
      "Ljung-Box (L1) (Q):                   0.81   Jarque-Bera (JB):               133.13\n",
      "Prob(Q):                              0.37   Prob(JB):                         0.00\n",
      "Heteroskedasticity (H):               5.20   Skew:                            -0.02\n",
      "Prob(H) (two-sided):                  0.00   Kurtosis:                         6.25\n",
      "===================================================================================\n",
      "\n",
      "Warnings:\n",
      "[1] Covariance matrix calculated using the outer product of gradients (complex-step).\n",
      "\n",
      "\n",
      "\n",
      "----------------------------------------------------------------------------------------------------\n",
      "----------------------------------------------------------------------------------------------------\n",
      "Model = ir\n",
      "Summary for ARIMA model of ir:\n",
      "                               SARIMAX Results                                \n",
      "==============================================================================\n",
      "Dep. Variable:                     ir   No. Observations:                  303\n",
      "Model:                 ARIMA(1, 0, 0)   Log Likelihood                1347.189\n",
      "Date:                Sun, 14 Apr 2024   AIC                          -2690.379\n",
      "Time:                        23:34:58   BIC                          -2682.951\n",
      "Sample:                    01-01-1999   HQIC                         -2687.407\n",
      "                         - 03-01-2024                                         \n",
      "Covariance Type:                  opg                                         \n",
      "==============================================================================\n",
      "                 coef    std err          z      P>|z|      [0.025      0.975]\n",
      "------------------------------------------------------------------------------\n",
      "ar.L1          0.9965      0.003    340.783      0.000       0.991       1.002\n",
      "sigma2      7.888e-06   3.48e-07     22.651      0.000    7.21e-06    8.57e-06\n",
      "===================================================================================\n",
      "Ljung-Box (L1) (Q):                   4.63   Jarque-Bera (JB):               458.44\n",
      "Prob(Q):                              0.03   Prob(JB):                         0.00\n",
      "Heteroskedasticity (H):               0.21   Skew:                            -1.08\n",
      "Prob(H) (two-sided):                  0.00   Kurtosis:                         8.63\n",
      "===================================================================================\n",
      "\n",
      "Warnings:\n",
      "[1] Covariance matrix calculated using the outer product of gradients (complex-step).\n",
      "\n",
      "\n",
      "\n",
      "Summary for ARIMA model of residuals of ir:\n",
      "                               SARIMAX Results                                \n",
      "==============================================================================\n",
      "Dep. Variable:                      y   No. Observations:                  303\n",
      "Model:                 ARIMA(1, 0, 0)   Log Likelihood                1228.993\n",
      "Date:                Sun, 14 Apr 2024   AIC                          -2453.986\n",
      "Time:                        23:34:58   BIC                          -2446.559\n",
      "Sample:                    01-01-1999   HQIC                         -2451.015\n",
      "                         - 03-01-2024                                         \n",
      "Covariance Type:                  opg                                         \n",
      "==============================================================================\n",
      "                 coef    std err          z      P>|z|      [0.025      0.975]\n",
      "------------------------------------------------------------------------------\n",
      "ar.L1         -0.0712      0.073     -0.975      0.330      -0.214       0.072\n",
      "sigma2      1.756e-05   2.76e-07     63.509      0.000     1.7e-05    1.81e-05\n",
      "===================================================================================\n",
      "Ljung-Box (L1) (Q):                   0.00   Jarque-Bera (JB):            109339.27\n",
      "Prob(Q):                              0.98   Prob(JB):                         0.00\n",
      "Heteroskedasticity (H):               0.07   Skew:                             6.82\n",
      "Prob(H) (two-sided):                  0.00   Kurtosis:                        95.06\n",
      "===================================================================================\n",
      "\n",
      "Warnings:\n",
      "[1] Covariance matrix calculated using the outer product of gradients (complex-step).\n",
      "\n",
      "\n",
      "\n",
      "----------------------------------------------------------------------------------------------------\n",
      "----------------------------------------------------------------------------------------------------\n"
     ]
    }
   ],
   "source": [
    "for col in lst_q5_cols:    \n",
    "    ar_var = ARIMA(df[col], order=(1,0,0), trend = 'n').fit()\n",
    "    print(f\"Model = {col}\")\n",
    "    print(f\"Summary for ARIMA model of {col}:\")\n",
    "    print(ar_var.summary())\n",
    "    print(\"\\n\\n\") \n",
    "    \n",
    "    ar_res = ARIMA(ar_var.resid, order=(1,0,0), trend = 'n').fit()\n",
    "    print(f\"Summary for ARIMA model of residuals of {col}:\")\n",
    "    print(ar_res.summary())\n",
    "    print(\"\\n\\n\")\n",
    "    print(\"--\"*50)\n",
    "    print(\"--\"*50)\n",
    "\n",
    "    lst_mod_resid.append(ar_res)\n",
    "    lst_rho_lambda.append((ar_var.params.loc['ar.L1'], ar_res.params.loc['ar.L1']))"
   ]
  },
  {
   "cell_type": "markdown",
   "id": "6f46a261-80da-4029-a4bd-af7a80eb75c8",
   "metadata": {},
   "source": [
    "The model results are:\n",
    "|Autocorrelation parameter| Value| Autocorrelation of residual| value| \n",
    "|---|---|---|---|\n",
    "|$\\lambda_{\\pi}$| $0.9927^{***}$|$\\rho_{\\pi}$|$0.2300^{***}$|\n",
    "|$\\lambda^{resid}_{\\pi}$|$0.9834^{***}$|$\\rho^{resid}_{\\pi}$| $0.3063^{***}$|\n",
    "|$\\lambda_{i}$|$0.9964^{***}$| $\\rho_{i}$| $-0.0711$|"
   ]
  },
  {
   "cell_type": "markdown",
   "id": "9b47c113-4afd-4781-8911-ece5b4daab36",
   "metadata": {},
   "source": [
    "So\n",
    "$$\n",
    "\\pi_{t+1} = 0.9927\\pi_{t}+u_{t+1}  \\ \\ \\ with \\ \\ \\ u_{t+1} = 0.2300u_t +\\epsilon_{t+1} $$\n",
    "and for the 'residual' inflation\n",
    "$$\n",
    "\\pi^{resid}_{t+1} = 0.9834\\pi^{resid}_{t}+u_{t+1}  \\ \\ \\ with \\ \\ \\ u_{t+1} = 0.3063u_t +\\epsilon_{t+1} $$\n",
    "and\n",
    "$$\n",
    "i_{t+1} = 0.9964i_{t}+u_{t+1}  \\ \\ \\ with \\ \\ \\ u_{t+1} = -0.0711u_t +\\epsilon_{t+1} $$"
   ]
  },
  {
   "cell_type": "markdown",
   "id": "06641116-e6b3-45d9-a55c-25bca562ceeb",
   "metadata": {},
   "source": [
    "It would be unusual to observe negative autocorrelation of inflation. Although we haven't controlled for the contractionary/opposite effects of the interest rate on inflation, there remains some positive autocorrelation of inflation almost at 1. The same can be said for interest rates which are also autocorrelated with the coefficient 0.9964."
   ]
  },
  {
   "cell_type": "markdown",
   "id": "609f90d2-afdc-44c6-adff-ecc09ad8645e",
   "metadata": {},
   "source": [
    "# Question 6"
   ]
  },
  {
   "cell_type": "markdown",
   "id": "42d274f7-69ec-4d9b-b025-c4e673a69508",
   "metadata": {},
   "source": [
    "\"Estimate the AR(2) model. Check your estimates are close to the following combination of parameters of the AR(1)-AR(1)\""
   ]
  },
  {
   "cell_type": "code",
   "execution_count": 38,
   "id": "f28450f8-5778-40b7-b247-d53e9f0d04ef",
   "metadata": {
    "tags": []
   },
   "outputs": [],
   "source": [
    "#lst_mod_ar2 = []\n",
    "#for col in lst_q5_cols:    \n",
    " #   ar_var = ARIMA(df[col], order=(2,0,0)).fit()\n",
    " #   lst_mod_ar2.append(ar_var)"
   ]
  },
  {
   "cell_type": "code",
   "execution_count": 39,
   "id": "be7b4560-4af3-43fd-b6dc-a1e4e6c033ef",
   "metadata": {
    "scrolled": true,
    "tags": []
   },
   "outputs": [],
   "source": [
    "#df_summary = summary_col(lst_mod_ar2, model_names=lst_q5_cols, stars=True, )\n",
    "#df_summary.add_df(pd.DataFrame([(i[0] + i[1], i[0] * i[1]) for i in lst_rho_lambda], index=lst_q5_cols, columns=['rho+lamb', 'rho*lamb']).T)\n",
    "#df_summary"
   ]
  },
  {
   "cell_type": "markdown",
   "id": "6b47b000-4b8e-4476-90c5-ae0ff8f2e037",
   "metadata": {},
   "source": [
    "The models estimated are:\n",
    "$$\n",
    "\\pi_{t+1} = (\\lambda_{\\pi}+\\rho_{\\pi})\\pi_{t} - \\lambda_{\\pi}\\rho_{\\pi}\\pi_{t-1} + u_{t+1}  \\ \\ \\ with \\ \\ \\ u_{t+1} = \\mu_{\\pi}u_t+\\epsilon_{t+1}\n",
    "$$ $$\n",
    "\\pi^{resid}_{t+1} = (\\lambda^{resid}_{\\pi}+\\rho^{resid}_{\\pi})\\pi^{resid}_{t} - \\lambda^{resid}_{\\pi}\\rho^{resid}_{\\pi}\\pi^{resid}_{t-1} + u_{t+1} \\ \\ \\ with \\ \\ \\ u_{t+1} = \\mu_{\\pi}u_t+\\epsilon_{t+1}\n",
    "$$ and $$\n",
    "i_{t+1} = (\\lambda_i\\rho_i)i_t - \\lambda_i\\rho_ii_{t-1}+u_{t+1} \\ \\ \\ with \\ \\ \\ u_{t+1} = \\mu_iu_t+\\epsilon_{t+1}\n",
    "$$\n"
   ]
  },
  {
   "cell_type": "code",
   "execution_count": 40,
   "id": "f85a74a7-062a-4124-8120-89af8077e1c0",
   "metadata": {},
   "outputs": [
    {
     "name": "stdout",
     "output_type": "stream",
     "text": [
      "Summary for ARIMA model of pi_Y:\n",
      "                               SARIMAX Results                                \n",
      "==============================================================================\n",
      "Dep. Variable:                   pi_Y   No. Observations:                  303\n",
      "Model:                 ARIMA(2, 0, 0)   Log Likelihood                1199.153\n",
      "Date:                Sun, 14 Apr 2024   AIC                          -2392.307\n",
      "Time:                        23:35:04   BIC                          -2381.166\n",
      "Sample:                    01-01-1999   HQIC                         -2387.850\n",
      "                         - 03-01-2024                                         \n",
      "Covariance Type:                  opg                                         \n",
      "==============================================================================\n",
      "                 coef    std err          z      P>|z|      [0.025      0.975]\n",
      "------------------------------------------------------------------------------\n",
      "ar.L1          1.3037      0.046     28.080      0.000       1.213       1.395\n",
      "ar.L2         -0.3129      0.047     -6.665      0.000      -0.405      -0.221\n",
      "sigma2      1.063e-05   6.37e-07     16.701      0.000    9.38e-06    1.19e-05\n",
      "===================================================================================\n",
      "Ljung-Box (L1) (Q):                   1.14   Jarque-Bera (JB):               135.56\n",
      "Prob(Q):                              0.29   Prob(JB):                         0.00\n",
      "Heteroskedasticity (H):               5.45   Skew:                            -0.05\n",
      "Prob(H) (two-sided):                  0.00   Kurtosis:                         6.28\n",
      "===================================================================================\n",
      "\n",
      "Warnings:\n",
      "[1] Covariance matrix calculated using the outer product of gradients (complex-step).\n",
      "\n",
      "\n",
      "Summary for ARIMA model of residuals of pi_Y:\n",
      "                               SARIMAX Results                                \n",
      "==============================================================================\n",
      "Dep. Variable:                      y   No. Observations:                  303\n",
      "Model:                 ARIMA(1, 0, 0)   Log Likelihood                1174.671\n",
      "Date:                Sun, 14 Apr 2024   AIC                          -2345.342\n",
      "Time:                        23:35:04   BIC                          -2337.915\n",
      "Sample:                    01-01-1999   HQIC                         -2342.371\n",
      "                         - 03-01-2024                                         \n",
      "Covariance Type:                  opg                                         \n",
      "==============================================================================\n",
      "                 coef    std err          z      P>|z|      [0.025      0.975]\n",
      "------------------------------------------------------------------------------\n",
      "ar.L1         -0.0753      0.052     -1.447      0.148      -0.177       0.027\n",
      "sigma2       1.29e-05    4.4e-07     29.288      0.000     1.2e-05    1.38e-05\n",
      "===================================================================================\n",
      "Ljung-Box (L1) (Q):                   0.00   Jarque-Bera (JB):              1658.75\n",
      "Prob(Q):                              0.97   Prob(JB):                         0.00\n",
      "Heteroskedasticity (H):               1.93   Skew:                             1.25\n",
      "Prob(H) (two-sided):                  0.00   Kurtosis:                        14.19\n",
      "===================================================================================\n",
      "\n",
      "Warnings:\n",
      "[1] Covariance matrix calculated using the outer product of gradients (complex-step).\n",
      "\n",
      "\n",
      "Summary for ARIMA model of pi_Y_resid:\n",
      "                               SARIMAX Results                                \n",
      "==============================================================================\n",
      "Dep. Variable:             pi_Y_resid   No. Observations:                  303\n",
      "Model:                 ARIMA(2, 0, 0)   Log Likelihood                1201.493\n",
      "Date:                Sun, 14 Apr 2024   AIC                          -2396.986\n",
      "Time:                        23:35:04   BIC                          -2385.845\n",
      "Sample:                    01-01-1999   HQIC                         -2392.528\n",
      "                         - 03-01-2024                                         \n",
      "Covariance Type:                  opg                                         \n",
      "==============================================================================\n",
      "                 coef    std err          z      P>|z|      [0.025      0.975]\n",
      "------------------------------------------------------------------------------\n",
      "ar.L1          1.2973      0.046     28.016      0.000       1.207       1.388\n",
      "ar.L2         -0.3191      0.047     -6.782      0.000      -0.411      -0.227\n",
      "sigma2       1.05e-05   6.42e-07     16.369      0.000    9.24e-06    1.18e-05\n",
      "===================================================================================\n",
      "Ljung-Box (L1) (Q):                   1.06   Jarque-Bera (JB):               123.12\n",
      "Prob(Q):                              0.30   Prob(JB):                         0.00\n",
      "Heteroskedasticity (H):               5.72   Skew:                             0.12\n",
      "Prob(H) (two-sided):                  0.00   Kurtosis:                         6.11\n",
      "===================================================================================\n",
      "\n",
      "Warnings:\n",
      "[1] Covariance matrix calculated using the outer product of gradients (complex-step).\n",
      "\n",
      "\n",
      "Summary for ARIMA model of residuals of pi_Y_resid:\n",
      "                               SARIMAX Results                                \n",
      "==============================================================================\n",
      "Dep. Variable:                      y   No. Observations:                  303\n",
      "Model:                 ARIMA(1, 0, 0)   Log Likelihood                1202.928\n",
      "Date:                Sun, 14 Apr 2024   AIC                          -2401.856\n",
      "Time:                        23:35:04   BIC                          -2394.429\n",
      "Sample:                    01-01-1999   HQIC                         -2398.885\n",
      "                         - 03-01-2024                                         \n",
      "Covariance Type:                  opg                                         \n",
      "==============================================================================\n",
      "                 coef    std err          z      P>|z|      [0.025      0.975]\n",
      "------------------------------------------------------------------------------\n",
      "ar.L1         -0.0640      0.047     -1.354      0.176      -0.157       0.029\n",
      "sigma2       1.05e-05   6.06e-07     17.327      0.000    9.32e-06    1.17e-05\n",
      "===================================================================================\n",
      "Ljung-Box (L1) (Q):                   0.02   Jarque-Bera (JB):               140.20\n",
      "Prob(Q):                              0.88   Prob(JB):                         0.00\n",
      "Heteroskedasticity (H):               5.49   Skew:                             0.15\n",
      "Prob(H) (two-sided):                  0.00   Kurtosis:                         6.32\n",
      "===================================================================================\n",
      "\n",
      "Warnings:\n",
      "[1] Covariance matrix calculated using the outer product of gradients (complex-step).\n",
      "\n",
      "\n",
      "Summary for ARIMA model of ir:\n",
      "                               SARIMAX Results                                \n",
      "==============================================================================\n",
      "Dep. Variable:                     ir   No. Observations:                  303\n",
      "Model:                 ARIMA(2, 0, 0)   Log Likelihood                1349.462\n",
      "Date:                Sun, 14 Apr 2024   AIC                          -2692.925\n",
      "Time:                        23:35:04   BIC                          -2681.784\n",
      "Sample:                    01-01-1999   HQIC                         -2688.468\n",
      "                         - 03-01-2024                                         \n",
      "Covariance Type:                  opg                                         \n",
      "==============================================================================\n",
      "                 coef    std err          z      P>|z|      [0.025      0.975]\n",
      "------------------------------------------------------------------------------\n",
      "ar.L1          0.8773      0.036     24.089      0.000       0.806       0.949\n",
      "ar.L2          0.1199      0.037      3.281      0.001       0.048       0.192\n",
      "sigma2      7.775e-06   3.44e-07     22.596      0.000     7.1e-06    8.45e-06\n",
      "===================================================================================\n",
      "Ljung-Box (L1) (Q):                   0.00   Jarque-Bera (JB):               449.66\n",
      "Prob(Q):                              0.96   Prob(JB):                         0.00\n",
      "Heteroskedasticity (H):               0.26   Skew:                            -1.07\n",
      "Prob(H) (two-sided):                  0.00   Kurtosis:                         8.57\n",
      "===================================================================================\n",
      "\n",
      "Warnings:\n",
      "[1] Covariance matrix calculated using the outer product of gradients (complex-step).\n",
      "\n",
      "\n",
      "Summary for ARIMA model of residuals of ir:\n",
      "                               SARIMAX Results                                \n",
      "==============================================================================\n",
      "Dep. Variable:                      y   No. Observations:                  303\n",
      "Model:                 ARIMA(1, 0, 0)   Log Likelihood                1228.843\n",
      "Date:                Sun, 14 Apr 2024   AIC                          -2453.687\n",
      "Time:                        23:35:04   BIC                          -2446.259\n",
      "Sample:                    01-01-1999   HQIC                         -2450.715\n",
      "                         - 03-01-2024                                         \n",
      "Covariance Type:                  opg                                         \n",
      "==============================================================================\n",
      "                 coef    std err          z      P>|z|      [0.025      0.975]\n",
      "------------------------------------------------------------------------------\n",
      "ar.L1         -0.0182      0.081     -0.225      0.822      -0.177       0.141\n",
      "sigma2      1.757e-05   2.13e-07     82.578      0.000    1.72e-05     1.8e-05\n",
      "===================================================================================\n",
      "Ljung-Box (L1) (Q):                   0.00   Jarque-Bera (JB):            111039.71\n",
      "Prob(Q):                              0.99   Prob(JB):                         0.00\n",
      "Heteroskedasticity (H):               0.07   Skew:                             6.86\n",
      "Prob(H) (two-sided):                  0.00   Kurtosis:                        95.77\n",
      "===================================================================================\n",
      "\n",
      "Warnings:\n",
      "[1] Covariance matrix calculated using the outer product of gradients (complex-step).\n",
      "\n",
      "\n"
     ]
    }
   ],
   "source": [
    "for col in lst_q5_cols:    \n",
    "    ar_var = ARIMA(df[col], order=(2,0,0), trend = 'n').fit()\n",
    "    print(f\"Summary for ARIMA model of {col}:\")\n",
    "    print(ar_var.summary())\n",
    "    print(\"\\n\")\n",
    "    \n",
    "    ar_res = ARIMA(ar_var.resid, order=(1,0,0), trend = 'n').fit()\n",
    "    print(f\"Summary for ARIMA model of residuals of {col}:\")\n",
    "    print(ar_res.summary())\n",
    "    print(\"\\n\") \n",
    "\n",
    "    lst_mod_resid.append(ar_res)\n",
    "    lst_rho_lambda.append((ar_var.params.loc['ar.L1'], ar_res.params.loc['ar.L1']))"
   ]
  },
  {
   "cell_type": "markdown",
   "id": "7ef8db0f-1b5c-418b-abc1-73fb13382451",
   "metadata": {},
   "source": [
    "#### Model:\n",
    "$$\n",
    "\\pi_{t+1} = (\\lambda_{\\pi}+\\rho_{\\pi})\\pi_{t} - \\lambda_{\\pi}\\rho_{\\pi}\\pi_{t-1} + u_{t+1}  \\ \\ \\ with \\ \\ \\ u_{t+1} = \\mu_{\\pi}u_t+\\epsilon_{t+1}\n",
    "$$"
   ]
  },
  {
   "cell_type": "markdown",
   "id": "5073096a-fef3-42a2-9112-6874dba3f0dc",
   "metadata": {},
   "source": [
    "|Autocorrelation parameter AR(2)| Value|\n",
    "|---|---|\n",
    "|$\\lambda_{\\pi} + \\rho_{\\pi}$| $1.3037^{***}$|\n",
    "|$- \\lambda_{\\pi}\\rho_{\\pi}$|$-0.3129^{***}$|\n",
    "|$\\mu_{\\pi}$|$-0.0753$|"
   ]
  },
  {
   "cell_type": "markdown",
   "id": "0bc8a485-4e28-4227-b8d8-73683d09a006",
   "metadata": {},
   "source": [
    "We have\n",
    "|Parameters|Equation|Result (AR(1))|AR(2)| Comments|\n",
    "|---|---|---|---|---|\n",
    "|$\\lambda_{\\pi} + \\rho_{\\pi}$|$0.9927 + 0.2300$|$1.2227$|$1.3037$|Very close to AR(1) model: consistent|\n",
    "|$- \\lambda_{\\pi}\\rho_{\\pi}$|$-0.9927 * 0.2300$|$-0.228321$|$-0.3129$|Fairly close to AR(1) model's result|"
   ]
  },
  {
   "cell_type": "markdown",
   "id": "ca95b49b-cccf-45bf-b636-58d0e147ca4f",
   "metadata": {},
   "source": [
    "#### Model:\n",
    "$$\n",
    "\\pi^{resid}_{t+1} = (\\lambda^{resid}_{\\pi}+\\rho^{resid}_{\\pi})\\pi^{resid}_{t} - \\lambda^{resid}_{\\pi}\\rho^{resid}_{\\pi}\\pi^{resid}_{t-1} + u_{t+1} \\ \\ \\ with \\ \\ \\ u_{t+1} = \\mu_{\\pi}u_t+\\epsilon_{t+1}\n",
    "$$"
   ]
  },
  {
   "cell_type": "markdown",
   "id": "54cde63d-5004-4948-8580-0662fad4b44d",
   "metadata": {},
   "source": [
    "|Autocorrelation parameter AR(2)| Value|\n",
    "|---|---|\n",
    "|$\\lambda^{resid}_{\\pi} + \\rho^{resid}_{\\pi}$| $1.2973^{***}$|\n",
    "|$- \\lambda^{resid}_{\\pi}\\rho^{resid}_{\\pi}$|$-0.3191^{***}$|\n",
    "|$\\mu_{\\pi}$|$-0.0640$|"
   ]
  },
  {
   "cell_type": "markdown",
   "id": "758715ce-393f-4c85-a1e7-9b6cdeea5d5f",
   "metadata": {},
   "source": [
    "From our AR(1)-AR(1) and AR(2)-AR(1) models we have\n",
    "|Parameters|Equation|Result (AR(1))|AR(2)| Comments|\n",
    "|---|---|---|---|---|\n",
    "|$\\lambda^{resid}_{\\pi} + \\rho^{resid}_{\\pi}$|$0.9834 + 0.3063$|$1.2897$|$1.2973$|Very close to AR(1) model: consistent|\n",
    "|$- \\lambda^{resid}_{\\pi}\\rho^{resid}_{\\pi}$|$-0.9834 * 0.3063$|$-0.30121542$|$-0.3191$|Also very close|"
   ]
  },
  {
   "cell_type": "markdown",
   "id": "09f1564a-4233-4f15-87e5-78d0fb62fa42",
   "metadata": {},
   "source": [
    "### Model:\n",
    "$$\n",
    "i_{t+1} = (\\lambda_i\\rho_i)i_t - \\lambda_i\\rho_ii_{t-1}+u_{t+1} \\ \\ \\ with \\ \\ \\ u_{t+1} = \\mu_iu_t+\\epsilon_{t+1}\n",
    "$$\n"
   ]
  },
  {
   "cell_type": "markdown",
   "id": "fc787f82-1cdb-4c63-b63c-9558bfff06b3",
   "metadata": {},
   "source": [
    "|Autocorrelation parameter AR(2)| Value|\n",
    "|---|---|\n",
    "|$\\lambda_{i} + \\rho_{i}$| $0.8773^{***}$|\n",
    "|$- \\lambda_{i}\\rho_{i}$|$-0.1199^{***}$|\n",
    "|$\\mu_{i}$|$-0.0182$|"
   ]
  },
  {
   "cell_type": "markdown",
   "id": "f3500246-2d1a-4bc8-a372-1fc25b2de30c",
   "metadata": {},
   "source": [
    "We have\n",
    "|Parameters|Equation|Result (AR(1))|AR(2)| Comments|\n",
    "|---|---|---|---|---|\n",
    "|$\\lambda_{i} + \\rho_{i}$|$0.9964 + -0.0711$|$0.9253$|$0.8873$|Fairly consistent with AR(1) model|\n",
    "|$- \\lambda_{i}\\rho_{i}$|$-0.9964 * -0.0711$|$0.07084404$|$-0.1199$|This is inconsistent. This is because the AR(1) coefficient of the residuals is negative. It is statistically insignificant however, so these results do not necessarily imply a failure of the model.|"
   ]
  },
  {
   "cell_type": "markdown",
   "id": "e1632bb1-1538-4c6f-8e5e-ce2d7d3721c4",
   "metadata": {},
   "source": [
    "Overall, our estimates are close, particularly so for inflation. The only thing throwing the estimates off is the negative autocorrelation of the residuals in the AR(1)-AR(1) model for interest rates. The coefficient is low, but negative. The negative sign means we get an inconsistency when multiplying the $- \\lambda_{i}\\rho_{i}$. This leaves us with a positive product from the AR(1) model, but a negative value from the AR(2)-AR(1) models. It is worth noting that the p-value for this coefficient was 0.331 so it is statistically insignificant which implies this result is not as damning as at first glance."
   ]
  },
  {
   "cell_type": "markdown",
   "id": "4a2e5d42-55ea-452d-928a-329638b4a257",
   "metadata": {},
   "source": [
    "# Question 7"
   ]
  },
  {
   "cell_type": "markdown",
   "id": "bc6751f0-b278-42e2-a345-ba513de91195",
   "metadata": {},
   "source": [
    "\"For an AR(p), p ≥ 2, for measuring persistence, should you consider the first auto- regressive parameter only or the sum of the auto-regressive parameters? A PhD student comes to you and states: look the auto-regressive parameter (the first one of the AR(1)) is 1.4, it is above a unit root. What do you answer to him?\""
   ]
  },
  {
   "cell_type": "markdown",
   "id": "8b1d2167-ae62-4526-a3e8-a4f9642db541",
   "metadata": {},
   "source": [
    "For an AR(P) process where p≥2, it would be incorrect to make this assumption based on the first autoregressive coefficient coefficient alone. The process is autoregressive to an order greater than just 1. We saw with the AR(2) models that the coefficient on the second lag is significant also so it would be a mistake to claim the process is explosive because of the coefficient of 1.4. We must consider the overall combined effects of the lags up to order P to determine whether there is a unit root or not. Indeed, for inflation the coefficient of the first lag is 1.3037 which is above 1 and hence indicates an explosive process. However, the coefficient for the second lag is 0.3129, and considering the sum of the autoregressive parameters gives 0.9908 which is less than 1. If 1.3037 was the only parameter is might suggest an explosive process but it is not the only coefficient: we must consider the sum of the autoregressive parameters."
   ]
  },
  {
   "cell_type": "markdown",
   "id": "27baebf3-7bc1-4293-a4ca-b295fb646d4c",
   "metadata": {},
   "source": [
    "The individual coefficients of an AR(p) process canot imply a unit root. Instead one needs to consider the combination of coefficients. More specifically, the eigenvalues of the coefficient matrix. Let $\\mathbf{\\Gamma}$ be the coefficient matrix of an AR(2) process, such that:\n",
    "$ [a, b] $\n"
   ]
  },
  {
   "cell_type": "code",
   "execution_count": 41,
   "id": "30461b11-deed-4563-8581-64135bb2c9f7",
   "metadata": {},
   "outputs": [],
   "source": [
    "lst_mod_ar2 = []\n",
    "for col in lst_q5_cols:    \n",
    "    ar_var = ARIMA(df[col], order=(2,0,0), trend = 'n').fit()\n",
    "    lst_mod_ar2.append(ar_var)"
   ]
  },
  {
   "cell_type": "code",
   "execution_count": 42,
   "id": "8adfe898-ecf6-4040-95bf-9891f5a57071",
   "metadata": {
    "tags": []
   },
   "outputs": [],
   "source": [
    "phi1 = np.linspace(-2, 2, 100)\n",
    "phi2 = np.linspace(-2, 2, 100)\n",
    "\n",
    "stab1 = phi1 + 1\n",
    "stab2 = 1 - phi1\n",
    "stab3 = list([-1] * 100)\n",
    "stab4 = -phi1 ** 2 / 4"
   ]
  },
  {
   "cell_type": "code",
   "execution_count": 43,
   "id": "dced6c2d-ae1e-4a36-84e0-415aa79f7463",
   "metadata": {
    "tags": []
   },
   "outputs": [
    {
     "name": "stdout",
     "output_type": "stream",
     "text": [
      "\n",
      "Note that there is overlay of the coefs pi_Y_resid and coefs pi_Y on this figure\n"
     ]
    },
    {
     "data": {
      "image/png": "[encoded data removed]",
      "text/plain": [
       "<Figure size 700x500 with 1 Axes>"
      ]
     },
     "metadata": {},
     "output_type": "display_data"
    }
   ],
   "source": [
    "fig, ax = plt.subplots(1, 1, figsize=(7,5))\n",
    "ax.plot(phi1, stab1, color='black', linestyle='dashed', lw=.75)\n",
    "ax.plot(phi1, stab2, color='black', linestyle='dashed', lw=.75)\n",
    "ax.plot(phi1, stab3, color='black', linestyle='dashed', lw=.75)\n",
    "# ax.fill_betweenx(stab4, stab1, phi1)\n",
    "ax.fill_between(phi1, stab3, stab4, color='black', alpha=.2, linestyle='-', label='complex part')\n",
    "\n",
    "for i, mod in enumerate(lst_mod_ar2):\n",
    "    ax.scatter(*mod.params.values[:-1], label=f\"coefs {lst_q5_cols[i]}\")\n",
    "    ax.set_ylim(bottom=-1.2, top=1.5)\n",
    "\n",
    "ax.set_title(\"AR(2) stability conditions\")\n",
    "ax.set_xlabel(\"phi 1\")\n",
    "ax.set_ylabel(\"phi 2\")\n",
    "\n",
    "ax.legend()\n",
    "print('\\nNote that there is overlay of the coefs pi_Y_resid and coefs pi_Y on this figure')"
   ]
  },
  {
   "cell_type": "markdown",
   "id": "0a4eab3d-3ecd-4388-b1c8-3ff76b05fc0d",
   "metadata": {},
   "source": [
    "Outside of the dashed triangle, the $|\\phi_1 + \\phi_2| > 1$ the system is explosive. The AR(2) processes satisfy the stability conditions and prove that the PhD student's comments are misguided. We can also confirm that the roots are real and not complex. Complex roots imply oscillatory behaviour. For inflation, one root is positive and the other negative which implies the system returns to equilibrium with oscillations. "
   ]
  },
  {
   "cell_type": "markdown",
   "id": "e802364b-90c9-4ff4-b94f-7b5eaa47076d",
   "metadata": {
    "tags": []
   },
   "source": [
    "## simulate complex AR(2)"
   ]
  },
  {
   "cell_type": "code",
   "execution_count": 44,
   "id": "0aedf6a8-ab45-4aec-a63a-87846c16b430",
   "metadata": {
    "tags": []
   },
   "outputs": [
    {
     "data": {
      "text/plain": [
       "array([False, False])"
      ]
     },
     "execution_count": 44,
     "metadata": {},
     "output_type": "execute_result"
    }
   ],
   "source": [
    "A = np.array([-.9, .9])\n",
    "B = np.zeros((len(A), len(A)))\n",
    "B[0, :] = A\n",
    "B[1, 0] = 1\n",
    "evals, evecs = np.linalg.eig(B)\n",
    "evals > 1"
   ]
  },
  {
   "cell_type": "code",
   "execution_count": 45,
   "id": "63d0286b-65b5-4584-8cb5-ce6a022fdc54",
   "metadata": {
    "tags": []
   },
   "outputs": [],
   "source": [
    "lst_arrs = []\n",
    "lst_As = [[-.9, .9], [.3, .4], [.8, .13], [.01, -.9], [.1, .91]]\n",
    "for A in lst_As:\n",
    "    A = np.array(A)\n",
    "    arr = np.ones(100)\n",
    "    for i in range(2, len(arr)):\n",
    "        arr[i] = A @ arr[i-A.shape[0]:i]\n",
    "    lst_arrs.append(arr)"
   ]
  },
  {
   "cell_type": "code",
   "execution_count": 46,
   "id": "213cdf26-aa88-47f2-9d25-714d9161a500",
   "metadata": {
    "tags": []
   },
   "outputs": [
    {
     "data": {
      "text/plain": [
       "Text(0.5, 1.0, 'AR(2) simulations')"
      ]
     },
     "execution_count": 46,
     "metadata": {},
     "output_type": "execute_result"
    },
    {
     "data": {
      "image/png": "[encoded data removed]",
      "text/plain": [
       "<Figure size 1200x300 with 1 Axes>"
      ]
     },
     "metadata": {},
     "output_type": "display_data"
    }
   ],
   "source": [
    "for i, arr in enumerate(lst_arrs):\n",
    "    plt.plot(arr, label=f\"{', '.join([str(i) for i in lst_As[i]])}\")\n",
    "plt.legend()\n",
    "plt.title(\"AR(2) simulations\")"
   ]
  },
  {
   "cell_type": "markdown",
   "id": "198943f5-b5c0-4090-960c-f9054ac5b532",
   "metadata": {},
   "source": [
    "# Question 8\n",
    "\"In VAR estimation, are the residuals supposed to be white noise or auto-regressive? What is the difference between weak white noise and strong white noise? Which are the null hypothesis and the statistics of the Ljung-Box or portmanteau test?\"\n",
    "\n",
    "\n"
   ]
  },
  {
   "attachments": {},
   "cell_type": "markdown",
   "id": "5ae9c187-3c2d-4a91-ab6d-c3e17d71859c",
   "metadata": {},
   "source": [
    "In a VAR regression, the residuals are supposed to be white noise. If the residuals are autoregressive it would imply the VAR has been unsuccessful in extracting all the relationships between the variables and their lags. If the residuals were not white noise, a better order of VAR exists and the model could be estimated with greater explanatory power. If the residuals are autocorrelated, additional lags are added to the model. The number of lags can also be selected on the basis of the information criteria like AIC or SIC. \tNo precautions are necessary if the residuals are correlated across equations\n",
    "\n",
    "A key test for the VAR is to test whether there is autocorrelation in the residuals using a weak white noise test. Weak white noise requires that $\\forall t, E(\\epsilon_t)=0$, $Var(\\epsilon_t)=\\sigma^2_{\\epsilon}$, $\\forall t'≠t$,$Cov(\\epsilon_{t}, \\epsilon_{t'})=0$. Weak white noise residuals essentially means the residuals have constant variance, an expected value of 0 (mean 0) and for any two residuals, the covariance (and therefore correlation) is 0. By virtue of this, the residual at time t is not correlated with the residual at time t-1. Hence, no autocorrelation.\n",
    "\n",
    "A strong white noise is a stochastic process of i.i.d. (identically, independently distributed) random variables. Strong white noise is a much stronger requirement than 0 covariance. The cumulative distribution function generating each observation must be identical and each lag must have a joint CDF with every other lag. Strong white noise imposes distributional assumptions over the whole history of the time series.\n",
    "\n",
    "#### Ljung-Box Test\n",
    "The null hypothesis of the Ljung-Box test is $H_0$: the data is independently distribution and the correlations are 0. If the residuals cannot reject the null hypothesis, the autocorrelation in the residuals is 0. This means that at a minimum the residuals are a white noise process. The alternative hypothesis $H_a$: The data is not independently distributed and there is autocorrelation in the residuals. A rejection of the null hypothesis of the Ljung-Box with regards to the residuals of a VAR model would imply the model is improperly specified and the lag length should be increased.\n",
    "\n"
   ]
  },
  {
   "cell_type": "markdown",
   "id": "d8b14ae0-b99a-4a0f-9da3-dbfc1a94895e",
   "metadata": {},
   "source": [
    "\n",
    "\n",
    "\n",
    "In VAR estimation, are the residuals supposed to be white noise or auto-regressive?\n",
    "+ The resiudals are supposed to be white noise, if autocorrelated the VAR model does not fully capture the dynamics of the time series.\n",
    "+ White noise residuals imply that the system of variables corresponds to the actual system generating the data in reality.\n",
    "\n",
    "What is the difference between weak white noise and strong white noise? \n",
    "+ Weak white noise refers to uncorrelated variables, where correlation is a linear dependence as defined by the Pearson correlation coefficients. Consequently, weak white noise draws are linearily independent but may be linked through a non-linear function.\n",
    "+ A stronger assumption is an indepednet identically distributed (iid) random white noise. Individual draws from such variable are independent of one another, thus there is no function linking the two. This explicitely includes non-linear functions, making this a stronger assumption than 1.\n",
    "\n",
    "Which are the null hypothesis and the statistics of the Ljung-Box or portmanteau test?\n",
    "+ The Ljung-Box statistic test for independence in the distribution\n",
    "\n"
   ]
  },
  {
   "cell_type": "markdown",
   "id": "53005c0c-5881-41b4-b22b-7bf760cede3c",
   "metadata": {},
   "source": [
    "# Question 9"
   ]
  },
  {
   "cell_type": "markdown",
   "id": "f317ec49-eee3-4605-b671-42cf646f2b6f",
   "metadata": {},
   "source": [
    "\"DSGE models estimations add systematically auto-regressive shocks to each equation. They give a particular \"insightful\" name of each of these shocks (see Paul Romer critique of DSGE models). Half of these auto-regressive parameters turn to be estimated to be close to unit root using \"Bayesian\" estimation (see e.g. Smets and Wouters). Having unit root residuals: is it expected to be valid in VAR or VECM?\""
   ]
  },
  {
   "cell_type": "markdown",
   "id": "e245ad8e-e9bc-418e-9580-59762de844a5",
   "metadata": {},
   "source": [
    "Romer (2016) criticises DSGE models in their attribution of fluctuations in variables to imaginary forces. He even described sitting in with Ed Prescott, a founder of the Real Business Cycles model, on a student's oral, asking \"What are these technology shocks?\" and Ed Prescott replied \"they're that traffic out there\". Romer says the shocks are purely imaginary. He also criticises that the \"sticky price lipstick on this RBC pig\" allows for the possibility of monetary policy to affect output. He argues that macro models are far worse than they were when they relied on identification assumptions that did not hold, now the assumptions are no more credible and far more opaque.\n",
    "\n",
    "The \"insightful\" names of the shocks are:\n",
    "* a phlogiston (this is a substance that was believed to be in combustible bodies, like wood, that was only released when they were on fire. It is essentially the element that 'fire' is made of) that increases the quantity of consumption goods produced by given inputs\n",
    "* an investment phlogiston that increases the quantity produced of capital goods\n",
    "* a troll who makes random changes to the wages paid by all workers.\n",
    "* a gremlin who makes random changes to the price of output\n",
    "* Aether which increases the risk apetite of investors\n",
    "* Caloric which makes people want less leisure.\n",
    "\n",
    "DSGE modellers assume there is no way to measure these forces or shocks.\n",
    "\n",
    "Having unit root residuals in a VAR model or a VECM model is not valid. Generally residuals should be stationary or white noise: random and uncorrelated over time. To test this the residuals can be plotted, the Ljung-Box test can be conducted on them, and the autocorrelation coefficients can be estimated.\n",
    "\n",
    "Being white noise, the residuals should have 0 mean, be homoskedastic and have no autocorrelation. Having 0 mean is indicative of the model capturing the trend of the data. If the mean is non-zero then the model is under-estimating the data. Homoskedasticity is the condition that the variance of the residuals is constant. This means that at different time periods, the variance of the residuals is unchanged and the model is equally well estimated at all time periods. If there is autocorrelation in the residuals, it suggests that the autoregressive component of the VAR or VECM is not capturing all of the autocorrelation of the variables. As mentioned above, if there is autocorrelation remaining in the residuals after estimation, the order of the VAR should be increased.\n",
    "\n",
    "Fulfilling these requirements means that what the model cannot explain (the residuals) is random. IF we find that the relationship between the variables could be changing over time, which might give rise to non-zero mean, heteroskedasticity or autocorrelation of the residuals, it might be that assuming constant parameter values over the full time period is too strict an assumption. For example, regressing inflation on interest rates over a 30-year period does not allow the capturing of all the unforeseen events or trends which may not have an influence on inflation or interest directly, but may affect the relationship between inflation and interest rates. Changing factors like increased globalisation, changing central bank governors or financial innovation might make the parameter values non-constant over time which can leave the model misidentified. This is the motivation for rolling window regressions which allows the setting of an estimation window which moves over time, allowing the relationship between variables to change and parameter values to be non-constant. \n",
    "\n",
    "In 'Publish and Perish' (Chatelain & Ralph, 2018), one of the reasons cited for the difficulty in testing macroeconomic theory relative to microeconomic theory is that the correlations between macroeconomic time series are not stable for periods longer than 10 to 20 years. Thi is caused by structural changes, as mentioned above, including changes in the rates of productivity and technological progress, changing exchange rate regimes, changes of regulations on capital flows and financial developments. Changes in political attitudes (e.g. Nixon to Reagan) can also change the transmission mechanisms."
   ]
  },
  {
   "cell_type": "markdown",
   "id": "4687730a-e7ae-459b-8544-fc3df7e5d6bf",
   "metadata": {},
   "source": [
    "# Question 10"
   ]
  },
  {
   "cell_type": "markdown",
   "id": "502bfacd-64d8-4868-a72a-13cc55aac83e",
   "metadata": {},
   "source": [
    "\"Based on question 4 and 5 and the paper \"Publish and perish\" in the reading list, would you expect \n",
    "* (1) observational equivalence of the DSGE auto-regressive shock assumption with an alternative specification\n",
    "* (2) would you expect residuals to be unit root if there is already an auto-regressive term for the time series in the AR(1)- AR(1) model?\n",
    "* (3) Would that suggest that some equations of DSGE model have no auto-regressive component for some dependent variables?\""
   ]
  },
  {
   "cell_type": "markdown",
   "id": "9b389b90-f0eb-4b55-b8e5-68f86300c483",
   "metadata": {},
   "source": [
    "Recall question 5:\n",
    "\n",
    "The model results are:\n",
    "|Autocorrelation parameter| Value| Autocorrelation of residual| value| \n",
    "|---|---|---|---|\n",
    "|$\\lambda_{\\pi}$| $0.9927^{***}$|$\\rho_{\\pi}$|$0.2300^{***}$|\n",
    "|$\\lambda^{resid}_{\\pi}$|$0.9834^{***}$|$\\rho^{resid}_{\\pi}$| $0.3063^{***}$|\n",
    "|$\\lambda_{i}$|$0.9964^{***}$| $\\rho_{i}$| $-0.0711$|\n",
    "\n",
    "\n",
    "So\n",
    "$$\n",
    "\\pi_{t+1} = 0.9927\\pi_{t}+u_{t+1}  \\ \\ \\ with \\ \\ \\ u_{t+1} = 0.2300u_t +\\epsilon_{t+1} $$\n",
    "and for the 'residual' inflation\n",
    "$$\n",
    "\\pi^{resid}_{t+1} = 0.9834\\pi^{resid}_{t}+u_{t+1}  \\ \\ \\ with \\ \\ \\ u_{t+1} = 0.3063u_t +\\epsilon_{t+1} $$\n",
    "and\n",
    "$$\n",
    "i_{t+1} = 0.9964i_{t}+u_{t+1}  \\ \\ \\ with \\ \\ \\ u_{t+1} = -0.0711u_t +\\epsilon_{t+1} $$"
   ]
  },
  {
   "cell_type": "markdown",
   "id": "4a4a2bff-bd12-4d39-a016-6ad7089067d0",
   "metadata": {},
   "source": [
    "Observational equivalence (Chatelain & Ralph, 2018) is where different models or specifications produce the same results and predictions. The narrative throughout Publish and Perish was centered around the emergence of DSGE modelling, replacing dominant theories of the 1980s. Researchers have an incentive to select observationally equivalent theories and forgetting discipline with respect to identification issues when using econometrics. Observational equivalence coupled with identification issues means that we cannot determine the underlying mechanisms the models try to predict. Obtaining equally precise predictions from multiple models, with different parameters, and different parameters identified, clouds the robustness of the theoretical foundations.\n",
    "\n",
    "* We would expect observational equivalence of the DSGE auto-regressive shock assumption with an alternative specification. As shown in Section 4 of Publish and Perish, using the assumption that observable and unobservable exogenous variables follow a VAR(1), the solution is observationally equivalent to a VAR(1) where expectations are adaptive (based on all past information). \"For any rational expectations DSGE model, there is an observationally equivalent adaptive expectations VAR model\".\n",
    "\n",
    "* If the AR(1)-AR(1) model is describing an AR(1)-AR(1) process, then there should not be a unit root in the residuals. Judging by the Ljung-Box text for the AR(1) models for the residuals, in all cases the null hypothesis of the data being independently distributed cannot be rejected (p-values > 0.10 for all). This suggests that despite the coefficients being statistically significant, there is no serial correlation of the residuals. Therefore, we would not expect the residuals to be unit root if there is already an autoregressive term for the time series in the AR(1)-AR(1) model as indicated by the results we obtained for the AR(1)-AR(1) models and the Ljung-Box statistics.\n",
    "\n",
    "* It would seem to suggest that some equations of DSGE models have no autoregressive components for some dependent variables. DSGE models assume serially autocorrelated shocks, but we have shown with AR(1)-AR(1) models that there should not be correlation in the residuals or 'shocks' if an autocorrelation term is included. In Publish and Perish, the authors note that the auto-correlation of shocks can be replaced by adding lags of order two or more of observable variables, such as inflation, output gap and federal funds rate. This also suggests that there is not autoregressive component of the dependent variables. It also suggests that autoregressive components of order 2 are required, not just order 1 as we estimated with the AR(1)-AR(1) models."
   ]
  },
  {
   "cell_type": "markdown",
   "id": "0c858286-9aa4-46ef-8c67-e276406c4d4e",
   "metadata": {},
   "source": [
    "# Question 11"
   ]
  },
  {
   "cell_type": "markdown",
   "id": "49ab9d2a-b631-4068-b59d-a6609e3961e0",
   "metadata": {},
   "source": [
    "\"Estimate with 10 years rolling windows the auto-correlation coefficient of AR(1) for the policy instrument and the policy target. Plot estimates over time. Do you distinguish different periods for distinct values of persistence: unit root or stationary process?\""
   ]
  },
  {
   "cell_type": "code",
   "execution_count": 58,
   "id": "b5bdf6a4-fdab-4262-877b-3d5d1a16c178",
   "metadata": {},
   "outputs": [
    {
     "data": {
      "text/html": [
       "<div>\n",
       "<style scoped>\n",
       "    .dataframe tbody tr th:only-of-type {\n",
       "        vertical-align: middle;\n",
       "    }\n",
       "\n",
       "    .dataframe tbody tr th {\n",
       "        vertical-align: top;\n",
       "    }\n",
       "\n",
       "    .dataframe thead th {\n",
       "        text-align: right;\n",
       "    }\n",
       "</style>\n",
       "<table border=\"1\" class=\"dataframe\">\n",
       "  <thead>\n",
       "    <tr style=\"text-align: right;\">\n",
       "      <th></th>\n",
       "      <th>cpi</th>\n",
       "      <th>ir</th>\n",
       "      <th>gdp</th>\n",
       "      <th>pd_gdp</th>\n",
       "      <th>pc_gdp</th>\n",
       "      <th>pi_M</th>\n",
       "      <th>gdp_cyc</th>\n",
       "      <th>gdp_trend</th>\n",
       "      <th>ir_diff</th>\n",
       "      <th>M</th>\n",
       "      <th>pi_M_resid</th>\n",
       "      <th>gdp_cyc_resid</th>\n",
       "      <th>gdp_trend_resid</th>\n",
       "      <th>pi_Y</th>\n",
       "      <th>pi_Y_resid</th>\n",
       "    </tr>\n",
       "  </thead>\n",
       "  <tbody>\n",
       "    <tr>\n",
       "      <th>1999-01-01</th>\n",
       "      <td>NaN</td>\n",
       "      <td>0.054629</td>\n",
       "      <td>5670216.0</td>\n",
       "      <td>NaN</td>\n",
       "      <td>702898.3</td>\n",
       "      <td>NaN</td>\n",
       "      <td>-0.058307</td>\n",
       "      <td>15.609045</td>\n",
       "      <td>NaN</td>\n",
       "      <td>1</td>\n",
       "      <td>NaN</td>\n",
       "      <td>0.013682</td>\n",
       "      <td>-0.729852</td>\n",
       "      <td>NaN</td>\n",
       "      <td>NaN</td>\n",
       "    </tr>\n",
       "    <tr>\n",
       "      <th>1999-02-01</th>\n",
       "      <td>NaN</td>\n",
       "      <td>0.052640</td>\n",
       "      <td>NaN</td>\n",
       "      <td>NaN</td>\n",
       "      <td>NaN</td>\n",
       "      <td>NaN</td>\n",
       "      <td>NaN</td>\n",
       "      <td>NaN</td>\n",
       "      <td>-0.001989</td>\n",
       "      <td>2</td>\n",
       "      <td>NaN</td>\n",
       "      <td>NaN</td>\n",
       "      <td>NaN</td>\n",
       "      <td>NaN</td>\n",
       "      <td>NaN</td>\n",
       "    </tr>\n",
       "    <tr>\n",
       "      <th>1999-03-01</th>\n",
       "      <td>NaN</td>\n",
       "      <td>0.052148</td>\n",
       "      <td>NaN</td>\n",
       "      <td>NaN</td>\n",
       "      <td>NaN</td>\n",
       "      <td>NaN</td>\n",
       "      <td>NaN</td>\n",
       "      <td>NaN</td>\n",
       "      <td>-0.000492</td>\n",
       "      <td>3</td>\n",
       "      <td>NaN</td>\n",
       "      <td>NaN</td>\n",
       "      <td>NaN</td>\n",
       "      <td>NaN</td>\n",
       "      <td>NaN</td>\n",
       "    </tr>\n",
       "    <tr>\n",
       "      <th>1999-04-01</th>\n",
       "      <td>NaN</td>\n",
       "      <td>0.051580</td>\n",
       "      <td>6144316.5</td>\n",
       "      <td>NaN</td>\n",
       "      <td>NaN</td>\n",
       "      <td>NaN</td>\n",
       "      <td>-0.001436</td>\n",
       "      <td>15.632474</td>\n",
       "      <td>-0.000568</td>\n",
       "      <td>4</td>\n",
       "      <td>NaN</td>\n",
       "      <td>-0.002772</td>\n",
       "      <td>-0.722188</td>\n",
       "      <td>NaN</td>\n",
       "      <td>NaN</td>\n",
       "    </tr>\n",
       "    <tr>\n",
       "      <th>1999-05-01</th>\n",
       "      <td>NaN</td>\n",
       "      <td>0.051865</td>\n",
       "      <td>NaN</td>\n",
       "      <td>NaN</td>\n",
       "      <td>NaN</td>\n",
       "      <td>NaN</td>\n",
       "      <td>NaN</td>\n",
       "      <td>NaN</td>\n",
       "      <td>0.000285</td>\n",
       "      <td>5</td>\n",
       "      <td>NaN</td>\n",
       "      <td>NaN</td>\n",
       "      <td>NaN</td>\n",
       "      <td>NaN</td>\n",
       "      <td>NaN</td>\n",
       "    </tr>\n",
       "    <tr>\n",
       "      <th>...</th>\n",
       "      <td>...</td>\n",
       "      <td>...</td>\n",
       "      <td>...</td>\n",
       "      <td>...</td>\n",
       "      <td>...</td>\n",
       "      <td>...</td>\n",
       "      <td>...</td>\n",
       "      <td>...</td>\n",
       "      <td>...</td>\n",
       "      <td>...</td>\n",
       "      <td>...</td>\n",
       "      <td>...</td>\n",
       "      <td>...</td>\n",
       "      <td>...</td>\n",
       "      <td>...</td>\n",
       "    </tr>\n",
       "    <tr>\n",
       "      <th>2023-11-01</th>\n",
       "      <td>146.34</td>\n",
       "      <td>0.056395</td>\n",
       "      <td>NaN</td>\n",
       "      <td>NaN</td>\n",
       "      <td>NaN</td>\n",
       "      <td>-0.005588</td>\n",
       "      <td>NaN</td>\n",
       "      <td>NaN</td>\n",
       "      <td>-0.000202</td>\n",
       "      <td>11</td>\n",
       "      <td>-0.004488</td>\n",
       "      <td>NaN</td>\n",
       "      <td>NaN</td>\n",
       "      <td>0.023857</td>\n",
       "      <td>0.002606</td>\n",
       "    </tr>\n",
       "    <tr>\n",
       "      <th>2023-12-01</th>\n",
       "      <td>146.58</td>\n",
       "      <td>0.056274</td>\n",
       "      <td>NaN</td>\n",
       "      <td>NaN</td>\n",
       "      <td>NaN</td>\n",
       "      <td>0.001639</td>\n",
       "      <td>NaN</td>\n",
       "      <td>NaN</td>\n",
       "      <td>-0.000121</td>\n",
       "      <td>12</td>\n",
       "      <td>-0.001073</td>\n",
       "      <td>NaN</td>\n",
       "      <td>NaN</td>\n",
       "      <td>0.029142</td>\n",
       "      <td>0.007822</td>\n",
       "    </tr>\n",
       "    <tr>\n",
       "      <th>2024-01-01</th>\n",
       "      <td>146.05</td>\n",
       "      <td>0.055811</td>\n",
       "      <td>NaN</td>\n",
       "      <td>NaN</td>\n",
       "      <td>NaN</td>\n",
       "      <td>-0.003622</td>\n",
       "      <td>NaN</td>\n",
       "      <td>NaN</td>\n",
       "      <td>-0.000463</td>\n",
       "      <td>1</td>\n",
       "      <td>0.002225</td>\n",
       "      <td>NaN</td>\n",
       "      <td>NaN</td>\n",
       "      <td>0.027509</td>\n",
       "      <td>0.006374</td>\n",
       "    </tr>\n",
       "    <tr>\n",
       "      <th>2024-02-01</th>\n",
       "      <td>146.97</td>\n",
       "      <td>0.055793</td>\n",
       "      <td>NaN</td>\n",
       "      <td>NaN</td>\n",
       "      <td>NaN</td>\n",
       "      <td>0.006279</td>\n",
       "      <td>NaN</td>\n",
       "      <td>NaN</td>\n",
       "      <td>-0.000018</td>\n",
       "      <td>2</td>\n",
       "      <td>0.002502</td>\n",
       "      <td>NaN</td>\n",
       "      <td>NaN</td>\n",
       "      <td>0.025766</td>\n",
       "      <td>0.004491</td>\n",
       "    </tr>\n",
       "    <tr>\n",
       "      <th>2024-03-01</th>\n",
       "      <td>NaN</td>\n",
       "      <td>0.055817</td>\n",
       "      <td>NaN</td>\n",
       "      <td>NaN</td>\n",
       "      <td>NaN</td>\n",
       "      <td>NaN</td>\n",
       "      <td>NaN</td>\n",
       "      <td>NaN</td>\n",
       "      <td>0.000024</td>\n",
       "      <td>3</td>\n",
       "      <td>NaN</td>\n",
       "      <td>NaN</td>\n",
       "      <td>NaN</td>\n",
       "      <td>NaN</td>\n",
       "      <td>NaN</td>\n",
       "    </tr>\n",
       "  </tbody>\n",
       "</table>\n",
       "<p>303 rows × 15 columns</p>\n",
       "</div>"
      ],
      "text/plain": [
       "               cpi        ir        gdp  pd_gdp    pc_gdp      pi_M   gdp_cyc  \\\n",
       "1999-01-01     NaN  0.054629  5670216.0     NaN  702898.3       NaN -0.058307   \n",
       "1999-02-01     NaN  0.052640        NaN     NaN       NaN       NaN       NaN   \n",
       "1999-03-01     NaN  0.052148        NaN     NaN       NaN       NaN       NaN   \n",
       "1999-04-01     NaN  0.051580  6144316.5     NaN       NaN       NaN -0.001436   \n",
       "1999-05-01     NaN  0.051865        NaN     NaN       NaN       NaN       NaN   \n",
       "...            ...       ...        ...     ...       ...       ...       ...   \n",
       "2023-11-01  146.34  0.056395        NaN     NaN       NaN -0.005588       NaN   \n",
       "2023-12-01  146.58  0.056274        NaN     NaN       NaN  0.001639       NaN   \n",
       "2024-01-01  146.05  0.055811        NaN     NaN       NaN -0.003622       NaN   \n",
       "2024-02-01  146.97  0.055793        NaN     NaN       NaN  0.006279       NaN   \n",
       "2024-03-01     NaN  0.055817        NaN     NaN       NaN       NaN       NaN   \n",
       "\n",
       "            gdp_trend   ir_diff   M  pi_M_resid  gdp_cyc_resid  \\\n",
       "1999-01-01  15.609045       NaN   1         NaN       0.013682   \n",
       "1999-02-01        NaN -0.001989   2         NaN            NaN   \n",
       "1999-03-01        NaN -0.000492   3         NaN            NaN   \n",
       "1999-04-01  15.632474 -0.000568   4         NaN      -0.002772   \n",
       "1999-05-01        NaN  0.000285   5         NaN            NaN   \n",
       "...               ...       ...  ..         ...            ...   \n",
       "2023-11-01        NaN -0.000202  11   -0.004488            NaN   \n",
       "2023-12-01        NaN -0.000121  12   -0.001073            NaN   \n",
       "2024-01-01        NaN -0.000463   1    0.002225            NaN   \n",
       "2024-02-01        NaN -0.000018   2    0.002502            NaN   \n",
       "2024-03-01        NaN  0.000024   3         NaN            NaN   \n",
       "\n",
       "            gdp_trend_resid      pi_Y  pi_Y_resid  \n",
       "1999-01-01        -0.729852       NaN         NaN  \n",
       "1999-02-01              NaN       NaN         NaN  \n",
       "1999-03-01              NaN       NaN         NaN  \n",
       "1999-04-01        -0.722188       NaN         NaN  \n",
       "1999-05-01              NaN       NaN         NaN  \n",
       "...                     ...       ...         ...  \n",
       "2023-11-01              NaN  0.023857    0.002606  \n",
       "2023-12-01              NaN  0.029142    0.007822  \n",
       "2024-01-01              NaN  0.027509    0.006374  \n",
       "2024-02-01              NaN  0.025766    0.004491  \n",
       "2024-03-01              NaN       NaN         NaN  \n",
       "\n",
       "[303 rows x 15 columns]"
      ]
     },
     "execution_count": 58,
     "metadata": {},
     "output_type": "execute_result"
    }
   ],
   "source": [
    "df"
   ]
  },
  {
   "cell_type": "code",
   "execution_count": 105,
   "id": "8c4e4a1f-dcb9-446a-9852-fb86ec1a6635",
   "metadata": {
    "tags": []
   },
   "outputs": [],
   "source": [
    "sub = df[['pi_Y_resid', 'ir']].dropna().copy()\n",
    "sub['pi_Y_resid'] = np.log(sub.pi_Y_resid + abs(sub.pi_Y_resid.min()) + .01)\n",
    "# sub['pi_Y_resid'] = np.log(sub.pi_Y_resid + abs(sub.pi_Y_resid.min()) + .01)"
   ]
  },
  {
   "cell_type": "code",
   "execution_count": 106,
   "id": "78aea9e1-5a48-47d7-a7cb-f3793e48989a",
   "metadata": {
    "tags": []
   },
   "outputs": [],
   "source": [
    "window = 12*5\n",
    "\n",
    "dict_coefs, dict_unit_root = {}, {}\n",
    "for eow in [*range(window, len(sub),1)][:15]:\n",
    "    dict_coefs[eow] = {}\n",
    "    dict_unit_root[eow] = {}\n",
    "    \n",
    "    for col in sub:\n",
    "        ar = ARIMA(sub.iloc[eow-window : eow][col], order=(1,0,0)).fit()\n",
    "        dict_coefs[eow][col] = ar.params['ar.L1']\n",
    "        \n",
    "        adf, pval, _, _, _, _ = adfuller(sub.iloc[eow-window:eow][col], )\n",
    "        if pval > .05:\n",
    "            dict_unit_root[eow][col] = True\n",
    "        else:\n",
    "            dict_unit_root[eow][col] = False\n",
    "            "
   ]
  },
  {
   "cell_type": "code",
   "execution_count": 107,
   "id": "caabf326-9180-4b3c-b7f3-68aa17f3a9f5",
   "metadata": {
    "scrolled": true,
    "tags": []
   },
   "outputs": [
    {
     "data": {
      "text/plain": [
       "<matplotlib.legend.Legend at 0x329af2cd0>"
      ]
     },
     "execution_count": 107,
     "metadata": {},
     "output_type": "execute_result"
    },
    {
     "data": {
      "image/png": "[encoded data removed]",
      "text/plain": [
       "<Figure size 1200x300 with 1 Axes>"
      ]
     },
     "metadata": {},
     "output_type": "display_data"
    }
   ],
   "source": [
    "df_uroot = pd.DataFrame(dict_unit_root).T #columns=sub.iloc[window:].index).T\n",
    "df_coefs = pd.DataFrame(dict_coefs).T #, columns=sub.iloc[window:].index).T\n",
    "\n",
    "\n",
    "_ = (((df_uroot+1)- (df_uroot.shift(-1)+1)) != 0 ) + ( ((df_uroot+1)- (df_uroot.shift(-1)+1)) != 0) \n",
    "df_uroot += _\n",
    "\n",
    "fig, ax = plt.subplots(1,1)\n",
    "plt.fill_between(df_uroot.index, 0, 1, where=df_uroot.values[:, 1], alpha=.2, transform=ax.get_xaxis_transform(), label='ir uroot')\n",
    "plt.fill_between(df_uroot.index, 0, 1, where=df_uroot.values[:, 0], alpha=.2, transform=ax.get_xaxis_transform(), label='pi uroot')\n",
    "for col in df_coefs:\n",
    "    plt.plot(df_coefs.index, df_coefs[col], label=col)\n",
    "plt.legend()"
   ]
  },
  {
   "cell_type": "code",
   "execution_count": 50,
   "id": "50c788ab-b052-46e4-b20c-6d55dff81062",
   "metadata": {
    "tags": []
   },
   "outputs": [],
   "source": [
    "df_coefs_AR = df_coefs.copy()"
   ]
  },
  {
   "cell_type": "markdown",
   "id": "b5d10ca9-ba29-47d1-bb7c-ccc2135a510b",
   "metadata": {},
   "source": [
    "# Q12: "
   ]
  },
  {
   "cell_type": "code",
   "execution_count": 51,
   "id": "fd6dfa06-51a5-4a74-becc-95306001cdef",
   "metadata": {
    "tags": []
   },
   "outputs": [],
   "source": [
    "sub = df[['pi_Y_resid', 'ir']].dropna().copy()\n",
    "sub['pi_Y_resid'] = np.log(sub.pi_Y_resid + abs(sub.pi_Y_resid.min()) + .01)\n",
    "sub = sm.add_constant(sub)"
   ]
  },
  {
   "cell_type": "code",
   "execution_count": 52,
   "id": "55b9c2a6-d8c0-444d-9ccc-772d0a3decb4",
   "metadata": {
    "tags": []
   },
   "outputs": [],
   "source": [
    "window = 12*3\n",
    "\n",
    "dict_coefs = {}\n",
    "for eow in [*range(window, len(sub),1)][:20]:\n",
    "    dict_coefs[eow] = {}\n",
    "    s = sub.iloc[eow-window : eow].copy()\n",
    "    s['trend'] = [*range(window)]\n",
    "    \n",
    "    for col in sub.drop('const', axis=1):\n",
    "        ols = OLS(s[col], exog=s[['const', 'trend']]).fit()\n",
    "        dict_coefs[eow][col] = dict(ols.params)"
   ]
  },
  {
   "cell_type": "code",
   "execution_count": 53,
   "id": "d9ebe346-dba1-449f-8c8d-72139e7ba92a",
   "metadata": {
    "tags": []
   },
   "outputs": [
    {
     "name": "stdout",
     "output_type": "stream",
     "text": [
      "Trend\n",
      "\n",
      "\n",
      "\n",
      "\n",
      "\n",
      " Constants\n"
     ]
    },
    {
     "data": {
      "text/plain": [
       "<Axes: >"
      ]
     },
     "execution_count": 53,
     "metadata": {},
     "output_type": "execute_result"
    },
    {
     "data": {
      "image/png": "[encoded data removed]",
      "text/plain": [
       "<Figure size 1200x300 with 1 Axes>"
      ]
     },
     "metadata": {},
     "output_type": "display_data"
    },
    {
     "data": {
      "image/png": "[encoded data removed]",
      "text/plain": [
       "<Figure size 1200x300 with 1 Axes>"
      ]
     },
     "metadata": {},
     "output_type": "display_data"
    }
   ],
   "source": [
    "print('Trend')\n",
    "pd.DataFrame({key: {k: value[k]['trend'] for k in value.keys()} for key, value in dict_coefs.items()}).T.plot()\n",
    "print('\\n\\n\\n\\n\\n Constants')\n",
    "pd.DataFrame({key: {k: value[k]['const'] for k in value.keys()} for key, value in dict_coefs.items()}).T.plot()"
   ]
  },
  {
   "cell_type": "markdown",
   "id": "cbdad588-8247-4921-84ab-b1bb9e8dbe10",
   "metadata": {},
   "source": [
    "## Q14 test for unit root"
   ]
  },
  {
   "cell_type": "code",
   "execution_count": 54,
   "id": "83341fc5-e81e-4e5f-b5a5-5ed4abf40d4a",
   "metadata": {
    "tags": []
   },
   "outputs": [],
   "source": [
    "sub = df[['pi_Y_resid', 'ir']].copy().dropna()"
   ]
  },
  {
   "cell_type": "code",
   "execution_count": 55,
   "id": "ee5e6239-082d-4ab0-a7b6-f09bda7a33ab",
   "metadata": {
    "tags": []
   },
   "outputs": [
    {
     "name": "stdout",
     "output_type": "stream",
     "text": [
      "-----------------------------------------------------------------------------\n",
      "ADF Test PI_Y_RESID: H0 there is a unit root\n",
      "-----------------------------------------------------------------------------\n",
      "                        adf-stat  p-value  lags    obs     1%     5%    10%\n",
      "constant                  -1.827    0.367  12.0  266.0 -3.455 -2.872 -2.573\n",
      "constant trend            -1.941    0.633  12.0  266.0 -3.993 -3.427 -3.137\n",
      "constant ltend, qtrend    -2.888    0.351  12.0  266.0 -4.415 -3.855 -3.567\n",
      "none                      -1.862    0.060  12.0  266.0 -2.574 -1.942 -1.616\n",
      "\n",
      "\n",
      "None\n",
      "-----------------------------------------------------------------------------\n",
      "ADF Test IR: H0 there is a unit root\n",
      "-----------------------------------------------------------------------------\n",
      "                        adf-stat  p-value  lags    obs     1%     5%    10%\n",
      "constant                  -1.906    0.329   6.0  272.0 -3.455 -2.872 -2.572\n",
      "constant trend            -1.236    0.903   6.0  272.0 -3.992 -3.427 -3.137\n",
      "constant ltend, qtrend    -2.108    0.772   6.0  272.0 -4.414 -3.854 -3.567\n",
      "none                      -1.140    0.231   6.0  272.0 -2.574 -1.942 -1.616\n",
      "\n",
      "\n",
      "None\n"
     ]
    }
   ],
   "source": [
    "for col in sub:\n",
    "    print(adf_test_summary(sub[col]))"
   ]
  },
  {
   "cell_type": "markdown",
   "id": "0221bd50-6a81-4a9a-ad94-cdf782422dc6",
   "metadata": {},
   "source": [
    "## Q15 cross correlation"
   ]
  },
  {
   "cell_type": "code",
   "execution_count": 56,
   "id": "3951534f-c92b-4ae2-8cb6-aa0bbf1cf53c",
   "metadata": {
    "tags": []
   },
   "outputs": [],
   "source": [
    "sub = df[['pi_Y_resid', 'ir']].dropna().copy()"
   ]
  },
  {
   "cell_type": "code",
   "execution_count": 57,
   "id": "8812a18f-4136-40e0-a689-d835083d9315",
   "metadata": {
    "tags": []
   },
   "outputs": [
    {
     "data": {
      "image/png": "[encoded data removed]",
      "text/plain": [
       "<Figure size 1200x300 with 1 Axes>"
      ]
     },
     "metadata": {},
     "output_type": "display_data"
    }
   ],
   "source": [
    "idx, corr, _, _, _ = cross_corr(sub.iloc[:,0], sub.iloc[:,1], lags=20)"
   ]
  },
  {
   "cell_type": "code",
   "execution_count": 51,
   "id": "4053562f-9a48-4b35-bc0e-d92930e171c5",
   "metadata": {
    "tags": []
   },
   "outputs": [],
   "source": [
    "pd.DataFrame(corr, index=idx);"
   ]
  },
  {
   "cell_type": "markdown",
   "id": "76ea97a4-1f75-4a55-807b-c77d8cf6b63a",
   "metadata": {},
   "source": [
    "# Q16:"
   ]
  },
  {
   "cell_type": "code",
   "execution_count": null,
   "id": "4741f542-8294-4672-9055-687bc7c4b171",
   "metadata": {
    "tags": []
   },
   "outputs": [],
   "source": [
    "sub = df[['pi_Y_resid', 'ir']].dropna().copy()\n",
    "sub['pi_Y_resid'] = np.log(sub.pi_Y_resid + abs(sub.pi_Y_resid.min()) + .01)\n",
    "\n",
    "sub = sub.join(sub.shift(1).add_suffix('_lead1')).dropna()"
   ]
  },
  {
   "cell_type": "code",
   "execution_count": null,
   "id": "722720cb-1c0c-4154-8ef9-fa2fa2c64238",
   "metadata": {
    "tags": []
   },
   "outputs": [],
   "source": [
    "window = 12*5\n",
    "\n",
    "dict_coefs, dict_unit_root = {}, {}\n",
    "for eow in [*range(window, len(sub),1)][:15]:\n",
    "    dict_coefs[eow] = {}\n",
    "    dict_unit_root[eow] = {}\n",
    "\n",
    "    s = sub.iloc[eow-window : eow]\n",
    "    s = sm.add_constant(s)\n",
    "    # s.dropna()\n",
    "    \n",
    "    ols_pi = OLS(endog=s['pi_Y_resid_lead1'], exog=s[['pi_Y_resid', 'ir']]).fit()\n",
    "    ols_i = OLS(endog=s['ir_lead1'], exog=s[['pi_Y_resid',]]).fit()\n",
    "\n",
    "    ar_pi = ARIMA(ols_pi.resid, order=(1,0,0)).fit()\n",
    "    ar_i = ARIMA(ols_i.resid, order=(1,0,0)).fit()\n",
    "\n",
    "    dict_coefs[eow] = { 'ols_pi': ols_pi.params.to_dict(), 'ols_i': ols_i.params.to_dict(),\n",
    "                       'ar_pi_params': ar_pi.params.to_dict(), 'ar_i_params': ar_i.params.to_dict()}\n",
    "    \n",
    "    for col in [('pi', ols_pi), ('i', ols_i)]:\n",
    "        adf, pval, _, _, _, _ = adfuller(col[1].resid, )\n",
    "        if pval > .05:\n",
    "            dict_unit_root[eow][col[0]] = True\n",
    "        else:\n",
    "            dict_unit_root[eow][col[0]] = False"
   ]
  },
  {
   "cell_type": "code",
   "execution_count": null,
   "id": "48536991-6194-4bc3-ae07-afeafa7dbf8d",
   "metadata": {
    "tags": []
   },
   "outputs": [],
   "source": [
    "df_uroot = pd.DataFrame(dict_unit_root).T \n",
    "_ = (((df_uroot+1)- (df_uroot.shift(-1)+1)) != 0 ) + ( ((df_uroot+1)- (df_uroot.shift(-1)+1)) != 0) \n",
    "df_uroot += _"
   ]
  },
  {
   "cell_type": "code",
   "execution_count": null,
   "id": "178612cc-df28-4ea5-b65b-18daff5fe739",
   "metadata": {
    "tags": []
   },
   "outputs": [],
   "source": [
    "df_coefs = pd.DataFrame({k: v['ols_pi'] for k, v in dict_coefs.items()}).T.rename(columns={'pi_Y': 'A', 'ir': 'B',}) # 'ar.L1': 'F'})\n",
    "df_coefs = df_coefs.join(pd.DataFrame({k: v['ols_i'] for k, v in dict_coefs.items()}).T.rename(columns={'pi_Y_resid': 'F'}))\n",
    "df_coefs = df_coefs.join(pd.DataFrame({k: v['ar_pi_params'] for k, v in dict_coefs.items()},).T.rename(columns={'ar.L1': 'rho_pi', 'sigma2': 'sigma_pi'}))\n",
    "df_coefs = df_coefs.join(pd.DataFrame({k: v['ar_i_params'] for k, v in dict_coefs.items()},).T[['ar.L1', 'sigma2']].rename(columns={'ar.L1': 'rho_i', 'sigma2': 'sigma_i'}))\n",
    "df_coefs = df_coefs.rename(columns={'pi_Y': 'A', 'ir': 'B', 'ar.L1': 'F'})\n",
    "df_coefs['sigma_pi'] = np.sqrt(df_coefs.sigma_pi)\n",
    "df_coefs['sigma_i'] = np.sqrt(df_coefs.sigma_i)"
   ]
  },
  {
   "cell_type": "code",
   "execution_count": null,
   "id": "056cfc3d-e826-4278-af13-ca7534bd8e3e",
   "metadata": {
    "tags": []
   },
   "outputs": [],
   "source": [
    "fig, ax = plt.subplots(1,1)\n",
    "plt.fill_between(df_uroot.index, 0, 1, where=df_uroot.values[:, 1], alpha=.2, transform=ax.get_xaxis_transform(), label='ir uroot')\n",
    "plt.fill_between(df_uroot.index, 0, 1, where=df_uroot.values[:, 0], alpha=.2, transform=ax.get_xaxis_transform(), label='pi uroot')\n",
    "for col in ['A', 'B', 'F']:\n",
    "    ax.plot(df_coefs[col], label=col)\n",
    "ax2 = ax.twinx()\n",
    "for col in ['rho_pi', 'rho_i']:\n",
    "    ax2.plot(df_coefs[col], label=col, linestyle='dashed')\n",
    "fig.legend()"
   ]
  },
  {
   "cell_type": "code",
   "execution_count": null,
   "id": "32a8815a-5d0d-4845-a7e2-dd9222aff738",
   "metadata": {
    "tags": []
   },
   "outputs": [],
   "source": [
    "df_coefs_ABF = df_coefs.copy()"
   ]
  },
  {
   "cell_type": "markdown",
   "id": "45305fbe-1daa-40db-af0e-e919da137503",
   "metadata": {},
   "source": [
    "# Q17:"
   ]
  },
  {
   "cell_type": "code",
   "execution_count": null,
   "id": "c9013dee-3436-4d46-af52-2abd5c087d31",
   "metadata": {
    "tags": []
   },
   "outputs": [],
   "source": [
    "fig, ax = plt.subplots()\n",
    "ax2 = ax.twinx()\n",
    "ax2.set_ylabel('AB+F')\n",
    "ax2.plot((df_coefs['A'] + df_coefs['B'] * df_coefs['F']), label='AB+F')\n",
    "ax.plot(df_coefs_AR['pi_Y'], label=\"$\\lambda_{\\pi}$\", color='green')\n",
    "ax.set_ylabel(\"$\\lambda_{\\pi}$\",)\n",
    "fig.legend()"
   ]
  },
  {
   "cell_type": "markdown",
   "id": "42cd7071-43cd-4c72-95ac-9b69ecf1578a",
   "metadata": {},
   "source": [
    "## Q18"
   ]
  },
  {
   "cell_type": "code",
   "execution_count": null,
   "id": "5c68ba1d-e74a-40f1-ad36-d7591486da88",
   "metadata": {
    "tags": []
   },
   "outputs": [],
   "source": [
    "fig, ax = plt.subplots()\n",
    "ax2 = ax.twinx()\n",
    "ax2.plot((df_coefs['A'] + df_coefs['B'] * df_coefs['F']), label='AB+F', color='red')\n",
    "ax2.set_ylabel('AB+F')\n",
    "for col in ['A', 'B', 'F']:\n",
    "    ax.plot(df_coefs[col], label=col)\n",
    "ax.set_ylabel('A, B, F')\n",
    "fig.legend()"
   ]
  },
  {
   "cell_type": "markdown",
   "id": "da7110cd-5897-4ca9-84d5-1139b3981736",
   "metadata": {},
   "source": [
    "## Q20"
   ]
  },
  {
   "cell_type": "code",
   "execution_count": null,
   "id": "bc98c389-8f99-45b7-a4d8-a1b8b166bb96",
   "metadata": {
    "tags": []
   },
   "outputs": [],
   "source": [
    "sub = df[['pi_Y', 'ir']].copy().dropna()"
   ]
  },
  {
   "cell_type": "code",
   "execution_count": null,
   "id": "d5b51714-be13-473f-b54b-6e5f1b914a38",
   "metadata": {
    "tags": []
   },
   "outputs": [],
   "source": [
    "window = 12*5\n",
    "\n",
    "dict_coefs, dict_unit_root = {}, {}\n",
    "for eow in [*range(window, len(sub),1)][:15]:\n",
    "    dict_coefs[eow] = {}\n",
    "    dict_unit_root[eow] = {}\n",
    "\n",
    "    s = sub.iloc[eow-window : eow]\n",
    "    dict_coefs[eow] = { 'corr': np.correlate(s['ir'], s['pi_Y'])[0], 'std err': s['ir'].std() / s['pi_Y'].std() }"
   ]
  },
  {
   "cell_type": "code",
   "execution_count": null,
   "id": "251ffddd-9766-46ae-876f-a6fecf5e80a8",
   "metadata": {
    "tags": []
   },
   "outputs": [],
   "source": [
    "df_coefs = pd.DataFrame(dict_coefs).T"
   ]
  },
  {
   "cell_type": "code",
   "execution_count": null,
   "id": "6e184bd4-174b-40a3-86de-80e3ca59d304",
   "metadata": {
    "tags": []
   },
   "outputs": [],
   "source": [
    "fig, ax = plt.subplots()\n",
    "ax2 = ax.twinx()\n",
    "ax2.plot(df_coefs['std err'], label='std err')\n",
    "ax.plot(df_coefs['corr'], label='corr', color='red')\n",
    "ax.plot(df_coefs_ABF['F'], label='F', color='green')\n",
    "fig.legend()"
   ]
  },
  {
   "cell_type": "markdown",
   "id": "410a506c-8904-4475-a194-68773b778df8",
   "metadata": {},
   "source": [
    "# Kalman filter"
   ]
  },
  {
   "cell_type": "markdown",
   "id": "4d649a38-e257-432d-afb6-212f60094bf2",
   "metadata": {},
   "source": [
    "The Kalman Filter observes a state vector $\\mathbf{X_t}$ of dimension $k$, evolving acording to some linear function. The system is also referred to as linear state space:\n",
    "$$\n",
    "    \\mathbf{X}_{t+1} = \\mathbf{A} \\mathbf{X}_{t} + \\mathbf{R} \\mathbf{\\epsilon_t}\n",
    "$$\n",
    "Propagating the system's transiton matrix $\\mathbf{A}$ forward in time allows to forecast future states $\\mathbf{\\hat{X}}_{t+1}$.\n",
    "\n",
    "The noise vector $\\mathbf{\\epsilon}_t \\sim N(0, \\mu^{\\epsilon})$ is assumed to normally distributed and possibly correlated across the state dimension. The selection matrix $\\mathbf{R}$ ensures that errors are mapped to states $\\mathbf{X}_t$.\n",
    "\n",
    "The filter distinguishes between observed $o$ and hidden states $h$. Toghether hidden and observed states form state vector $\\mathbf{X}_t$, such that $o+h = k$. Observed states are met by observation $\\mathbf{S}^{obs}_t$, which are subject to Gaussian noise. \n",
    "$$ \\mathbf{S}^{obs}_t = \\mathbf{S}^{true}_t + \\mathbf{u}_t \\sim N(0, \\mu^{obs}) $$\n",
    "Observed states $\\mathbf{S}^{obs}_t$ are mapped to the state vector $\\mathbf{X}_t$ through the design matrix $\\mathbf{D}$.\n",
    "$$ \\mathbf{S}_t = \\mathbf{D} \\mathbf{X}_t $$\n",
    "\n",
    "Applied to the context of this work the specific matrices are provided below:\n"
   ]
  },
  {
   "cell_type": "code",
   "execution_count": null,
   "id": "850f5cf1-5d24-4e7e-a1fd-173dce850583",
   "metadata": {},
   "outputs": [],
   "source": [
    "b = sp.symbols(\"x\")"
   ]
  },
  {
   "cell_type": "code",
   "execution_count": null,
   "id": "70f110b0-f03f-4436-ab03-49013ce04c1e",
   "metadata": {},
   "outputs": [],
   "source": [
    "_b = sp.lambdify(b, b+1)"
   ]
  },
  {
   "cell_type": "code",
   "execution_count": null,
   "id": "6937977a-090d-4cb0-aa47-1f18c3e3fa06",
   "metadata": {},
   "outputs": [],
   "source": [
    "_b(1)"
   ]
  },
  {
   "cell_type": "code",
   "execution_count": null,
   "id": "8dc5fba6-9e15-453d-875c-fbc4e8ef1643",
   "metadata": {},
   "outputs": [],
   "source": []
  },
  {
   "cell_type": "code",
   "execution_count": null,
   "id": "70096f41-3b16-400e-9d3a-70b1b74b465b",
   "metadata": {},
   "outputs": [],
   "source": [
    "A, B, F, rho_pi, rho_i, e_pi, e_i, u_pi, u_i, pi_t, i_t, pi_obs_t, i_obs_t lst_sp_expressions"
   ]
  },
  {
   "cell_type": "code",
   "execution_count": null,
   "id": "6852d898-34c2-49d0-aac8-a821d610bbe6",
   "metadata": {},
   "outputs": [],
   "source": [
    "lst_sp_expressions = sp.symbols(\n",
    "    ['A', 'B', 'F', 'rho^pi_u', 'rho^i_u', '\\epsilon^{\\pi}_{t+1}', '\\epsilon^{i}_{t+1}',\n",
    "     'u^{\\pi}_t', 'u^i_t', '\\pi_t', 'i_t', '\\pi^{obs}_t', 'i^{obs}_t'])\n",
    "A, B, F, rho_pi, rho_i, e_pi, e_i, u_pi, u_i, pi_t, i_t, pi_obs_t, i_obs_t = lst_sp_expressions\n",
    "\n",
    "# state = sp.Matrix([pi_t, i_t, u_pi, u_i])\n",
    "# transition = sp.Matrix([[A, B, rho_pi, 0], [F, 0, 0, rho_i], [0, 0, rho_pi, 0], [0, 0, 0, rho_i]])\n",
    "# design = sp.Matrix([[1, 0, 0, 0], [0, 1, 0, 0]]) # measurment to state vector\n",
    "# selection = sp.Matrix([[1,0], [0, 1], [1, 0], [0, 1]]) # noise to state\n",
    "# measurment = sp.Matrix([pi_obs_t, i_obs_t])\n",
    "# errors = sp.Matrix([e_pi, e_i])\n",
    "_ = [\n",
    "    sp.Matrix([pi_t, i_t, u_pi, u_i]), # states\n",
    "    sp.Matrix([[A, B, rho_pi, 0], [F, 0, 0, rho_i], [0, 0, rho_pi, 0], [0, 0, 0, rho_i]]), # transition\n",
    "    sp.Matrix([[1, 0, 0, 0], [0, 1, 0, 0]]), # measurment to state vector\n",
    "    sp.Matrix([[1,0], [0, 1], [1, 0], [0, 1]]), # noise to state\n",
    "    sp.Matrix([pi_obs_t, i_obs_t]), # observed\n",
    "    sp.Matrix([e_pi, e_i]), # shocks\n",
    "]\n",
    "dict_sp_matrices = {k: _[i] for i, k in enumerate(['state', 'transition', 'design', 'selection', 'measurement', 'shocks'])}\n",
    "dict_sp_lambdas = {k: sp.lambdify(list(v.free_symbols), v) for k, v in dict_sp_matrices.items()}"
   ]
  },
  {
   "cell_type": "code",
   "execution_count": null,
   "id": "2ecf78c4-936a-42b8-84ff-100f6276fc2c",
   "metadata": {},
   "outputs": [],
   "source": [
    "for k, v in dict_sp_matrices.items():\n",
    "    print(k,)\n",
    "    display(v)\n",
    "    print('\\n')"
   ]
  },
  {
   "cell_type": "code",
   "execution_count": null,
   "id": "54c0076d-e123-4fc9-8037-e56946aec149",
   "metadata": {},
   "outputs": [],
   "source": [
    "dict_sp_matrices['transition'] @ dict_sp_matrices['state'] + dict_sp_matrices['selection'] @ dict_sp_matrices['shocks']"
   ]
  },
  {
   "cell_type": "code",
   "execution_count": null,
   "id": "f180811f-1117-44ff-aa08-521c4bafd4be",
   "metadata": {},
   "outputs": [],
   "source": [
    "dict_sp_matrices['design'] @ dict_sp_matrices['state']"
   ]
  },
  {
   "cell_type": "markdown",
   "id": "f69212c1-c720-4fe1-a9a2-54592c7cf483",
   "metadata": {},
   "source": [
    "### Artificial Data Simulation"
   ]
  },
  {
   "cell_type": "markdown",
   "id": "389ff252-9e73-490a-9564-67b25645422f",
   "metadata": {},
   "source": [
    "A first section will be analysing artificial data. This exercise is meant to reflect the filter's ability to detect a negative B coefficient in the theoretical setup. The Central Bank is \"leaning\" into the wind, overreacting to inflation to drive it down."
   ]
  },
  {
   "cell_type": "code",
   "execution_count": null,
   "id": "4966d5e3-3c93-499a-a4d7-8a080945283e",
   "metadata": {},
   "outputs": [],
   "source": [
    "N = 150\n",
    "\n",
    "A_true, B_true, F_true = .7, -.2, 1.5\n",
    "rho_u_pi_true, rho_u_i_true = .3, -.1\n",
    "epsilon_u_pi_true, epsilon_u_i_true = 0.4, .05\n",
    "\n",
    "dict_true_coefs = dict(zip(['A', 'B', 'F', 'rho_u_pi', 'rho_u_i', 'epsilon_u_pi', 'epsilon_u_i'],\n",
    "                           [A_true, B_true, F_true, rho_u_pi_true, rho_u_i_true, epsilon_u_pi_true, epsilon_u_i_true]))"
   ]
  },
  {
   "cell_type": "code",
   "execution_count": null,
   "id": "7f24ab25-4b1a-44aa-b29f-00757f600e35",
   "metadata": {},
   "outputs": [],
   "source": [
    "dist_shocks = scipy.stats.multivariate_normal(mean=[0, 0], cov=[[epsilon_u_pi, 0], [0, epsilon_u_i]], )\n",
    "a = dist_shocks.rvs(1_000)\n",
    "plt.plot(a[:,0], a[:,1], lw=0, marker='.')\n",
    "plt.xlabel(\"Shock $\\epsilon^{pi}_t$\")\n",
    "plt.ylabel(\"Shock $\\epsilon^{i}_t$\")\n",
    "plt.tight_layout()"
   ]
  },
  {
   "cell_type": "markdown",
   "id": "4dd68f91-0a22-4e6a-9f78-094467316ec6",
   "metadata": {},
   "source": [
    "check stability through eigenvalues"
   ]
  },
  {
   "cell_type": "code",
   "execution_count": null,
   "id": "4de11da0-8a50-4073-aad3-ec9da1326001",
   "metadata": {},
   "outputs": [],
   "source": [
    "e,_ = np.linalg.eig(dict_sp_lambdas['transition'](rho_u_pi_true, A_true, rho_u_pi_true, F_true, B_true))\n",
    "np.abs(e) <= 1"
   ]
  },
  {
   "cell_type": "code",
   "execution_count": null,
   "id": "499a7e97-f871-40e4-89eb-f85b9413fb97",
   "metadata": {},
   "outputs": [],
   "source": [
    "arr_states = np.ones((N, 4))\n",
    "arr_shocks = dist_shocks.rvs(N)\n",
    "\n",
    "for i in range(1, N):\n",
    "    arr_states[i] = dict_sp_lambdas['transition'](rho_u_pi_true, A_true, rho_u_pi_true, F_true, B_true) @ arr_states[i-1] \\\n",
    "                    + dict_sp_lambdas['selection']() @ arr_shocks[i]"
   ]
  },
  {
   "cell_type": "markdown",
   "id": "c8c509b2-7cbc-497c-bffc-b871ca1d6103",
   "metadata": {},
   "source": [
    "This is one possible path of reality under the given parameters. Due to the stochastic nature of the system there is not one deterministic path. However, regardless of the exact path of the system the Kalman Filter should be able to retrieve its generating parameters."
   ]
  },
  {
   "cell_type": "code",
   "execution_count": null,
   "id": "262dcfaf-6930-4770-8a44-ca20d2830e88",
   "metadata": {},
   "outputs": [],
   "source": [
    "fig, ax = plt.subplots(2,1, figsize=(14,5))\n",
    "ax[0].plot(arr_states[:,:2])\n",
    "ax[0].legend(['pi', 'i'])\n",
    "ax[1].plot(arr_states[:,2:],)\n",
    "ax[1].legend(['u_pi', 'u_i'])"
   ]
  },
  {
   "cell_type": "markdown",
   "id": "c41d4e85-214c-4261-b90b-f3fa6bdc4767",
   "metadata": {
    "tags": []
   },
   "source": [
    "## PYMC"
   ]
  },
  {
   "cell_type": "code",
   "execution_count": null,
   "id": "97ed4da9-5083-448f-80b1-e4cc675d8974",
   "metadata": {},
   "outputs": [],
   "source": [
    "jax.config.update(\"jax_platform_name\", \"cpu\")\n",
    "numpyro.set_host_device_count(4)"
   ]
  },
  {
   "cell_type": "code",
   "execution_count": null,
   "id": "2a474447-b13b-4417-93e6-8e34c351f818",
   "metadata": {
    "tags": []
   },
   "outputs": [],
   "source": [
    "seed = sum(map(ord, \"custom statespace model\"))\n",
    "rng = np.random.default_rng(seed)\n",
    "matrix_names = [\n",
    "    \"initial_state\",\n",
    "    \"initial_state_cov\",\n",
    "    \"state_intercept\",\n",
    "    \"obs_intercept\",\n",
    "    \"transition\",\n",
    "    \"design\",\n",
    "    \"selection\",\n",
    "    \"obs_cov\",\n",
    "    \"state_cov\",\n",
    "]"
   ]
  },
  {
   "cell_type": "code",
   "execution_count": null,
   "id": "2ce003c6-16a5-4a33-86b2-4a22be34a5b5",
   "metadata": {},
   "outputs": [],
   "source": [
    "# define Kalman filter"
   ]
  },
  {
   "cell_type": "code",
   "execution_count": null,
   "id": "24e0e896-9d37-4edc-a48b-403a1d84e9b5",
   "metadata": {},
   "outputs": [],
   "source": [
    "class ABFKalmanFilter(PyMCStateSpace):\n",
    "    def __init__(self):\n",
    "        k_states = 4  # size of the state vector x\n",
    "        k_posdef = 2  # number of shocks (size of the state covariance matrix Q)\n",
    "        k_endog = 2 # number of observed states\n",
    "\n",
    "        super().__init__(k_endog=k_endog, k_states=k_states, k_posdef=k_posdef,)\n",
    "\n",
    "    def make_symbolic_graph(self):\n",
    "        # initial values\n",
    "        x0 = self.make_and_register_variable(\"x0\", shape=(4,))\n",
    "        P0 = self.make_and_register_variable(\"P0\", shape=(4, 4))\n",
    "\n",
    "        # policy parameters\n",
    "        A = self.make_and_register_variable(\"A\", shape=(1,))\n",
    "        B = self.make_and_register_variable(\"B\", shape=(1,))\n",
    "        F = self.make_and_register_variable(\"F\", shape=(1,))\n",
    "\n",
    "        # shock autoregressive parameters\n",
    "        rhos = self.make_and_register_variable(\"rho\", shape=(2,))\n",
    "\n",
    "        # shock and observation covariance\n",
    "        cov_u = self.make_and_register_variable(\"cov_u\", shape=(self.k_posdef,self.k_posdef))\n",
    "        cov_o = self.make_and_register_variable(\"cov_o\", shape=(self.k_endog,self.k_endog))\n",
    "\n",
    "        # F -> transition matrix\n",
    "        self.ssm[\"transition\", :, :] = np.zeros((self.k_states, self.k_states)) #np.eye(2, k=-1)\n",
    "        self.ssm[\"transition\", 0, 0] = A[0]\n",
    "        self.ssm[\"transition\", 0, 1] = B[0]\n",
    "        self.ssm[\"transition\", 1, 0] = F[0]\n",
    "        self.ssm[\"transition\", 0, 2] = rhos[0]\n",
    "        self.ssm[\"transition\", 2, 2] = rhos[0]\n",
    "        self.ssm[\"transition\", 1, 3] = rhos[1]\n",
    "        self.ssm[\"transition\", 3, 3] = rhos[1]\n",
    "        \n",
    "        # R -> noise on sensor where\n",
    "        self.ssm[\"selection\", 0, 0] = 1\n",
    "        self.ssm[\"selection\", 1, 1] = 1\n",
    "        self.ssm[\"selection\", 2, 0] = 1\n",
    "        self.ssm[\"selection\", 3, 1] = 1\n",
    "\n",
    "        # H -> measurement u to state vector\n",
    "        self.ssm[\"design\", 0, 0] = 1\n",
    "        self.ssm[\"design\", 1, 1] = 1        \n",
    "\n",
    "        # initial values\n",
    "        self.ssm[\"initial_state\", :] = x0\n",
    "        self.ssm[\"initial_state_cov\", :, :] = P0\n",
    "\n",
    "        # covariances\n",
    "        self.ssm[\"state_cov\", :, :] = cov_u\n",
    "        self.ssm[\"obs_cov\", :, :] = cov_o\n",
    "\n",
    "    @property\n",
    "    def param_names(self):\n",
    "        return [\"x0\", \"P0\", \"A\", \"B\", \"F\", \"rho\", \"cov_u\", \"cov_o\", ]\n",
    "\n",
    "    @property\n",
    "    def state_names(self):\n",
    "        return [\"pi\", \"i\", \"u_pi\", \"u_i\"]\n",
    "\n",
    "    @property\n",
    "    def shock_names(self):\n",
    "        return [\"epsilon_pi\", \"epsilon_i\"]\n",
    "\n",
    "    @property\n",
    "    def observed_states(self):\n",
    "        # Inspired, I know\n",
    "        return [\"pi\", \"i\"]\n",
    "\n",
    "    # @property\n",
    "    # def param_dims(self):\n",
    "    #     return {\n",
    "    #         \"x0\": (ALL_STATE_DIM,),\n",
    "    #         \"P0\": (ALL_STATE_DIM, ALL_STATE_AUX_DIM),\n",
    "    #         \"A\": (\"abf_dim\",),\n",
    "    #         \"B\": (\"abf_dim\",),\n",
    "    #         \"F\": (\"abf_dim\",),\n",
    "            # \"rhow\": (\"shock_lags\"),\n",
    "    \n",
    "    #     }\n",
    "\n",
    "    @property\n",
    "    def coords(self):\n",
    "        coords = make_default_coords(self)\n",
    "        # coords.update({\"abf_dim\": [1]})\n",
    "        # coords.update({\"shock_lags\": [1]})\n",
    "\n",
    "        return coords\n",
    "\n",
    "    @property\n",
    "    def param_info(self):\n",
    "        info = {\n",
    "            \"x0\": {\n",
    "                \"shape\": (self.k_states,),\n",
    "                \"constraints\": \"None\",\n",
    "            },\n",
    "            \"P0\": {\n",
    "                \"shape\": (self.k_states, self.k_states),\n",
    "                \"constraints\": \"Positive Semi-definite\",\n",
    "            },\n",
    "            \"A\": {\n",
    "                \"shape\": (1,),\n",
    "                \"constraint\": \"None\",\n",
    "            },\n",
    "            \"B\": {\n",
    "                \"shape\": (1,),\n",
    "                \"constraint\": \"None\",\n",
    "            },\n",
    "            \"F\": {\n",
    "                \"shape\": (1,),\n",
    "                \"constraint\": \"None\",\n",
    "            },\n",
    "            \"cov_u\": {\n",
    "                \"shape\": (self.k_posdef, self.k_posdef),\n",
    "                \"constraint\": \"Positive Semi-definite\",\n",
    "            },\n",
    "            \"cov_o\": {\n",
    "                \"shape\": (self.k_endog, self.k_endog),\n",
    "                \"constraint\": \"Positive Semi-definite\",\n",
    "            },\n",
    "            \"rho\": {\n",
    "                \"shape\": (self.k_posdef,),\n",
    "                \"constraint\": \"None\",\n",
    "            }\n",
    "\n",
    "        }\n",
    "\n",
    "        for name in self.param_names:\n",
    "            info[name][\"dims\"] = self.param_dims[name]\n",
    "\n",
    "        return info\n",
    "        "
   ]
  },
  {
   "cell_type": "code",
   "execution_count": null,
   "id": "2213f6f4-29de-427b-a091-f3b1d4987d31",
   "metadata": {},
   "outputs": [],
   "source": [
    "# define Bayesian estimation prior"
   ]
  },
  {
   "cell_type": "code",
   "execution_count": null,
   "id": "9f62fa50-988f-457e-b79d-283541e395a7",
   "metadata": {},
   "outputs": [],
   "source": [
    "def get_KF_pymc_mod():\n",
    "    kf_test = ABFKalmanFilter()\n",
    "    \n",
    "    with pm.Model(coords=kf_test.coords) as pymc_mod:\n",
    "        x0 = pm.Deterministic(\"x0\", pt.zeros(4,),dims=[\"state\"],)\n",
    "        P0 = pm.Deterministic(\"P0\", pt.eye(4) * 10, dims=[\"state\", \"state_aux\"])\n",
    "        \n",
    "        A = pm.Normal(\"A\", mu=0, sigma=.5, shape=(1,),)\n",
    "        B = pm.Normal(\"B\", mu=0, sigma=.5, shape=(1,),)\n",
    "        F = pm.Normal(\"F\", mu=0, sigma=.5, shape=(1,),)\n",
    "        \n",
    "        rho = pm.Beta(\"rho\", 1, 3, shape=(2,),)\n",
    "    \n",
    "        chol, corr, stds = pm.LKJCholeskyCov(\"chol_u\", n=2, eta=5.0, \n",
    "                                             sd_dist=pm.HalfNormal.dist(1.5, shape=2))\n",
    "        cov_u = pm.Deterministic(\"cov_u\", chol.dot(chol.T))\n",
    "        stds_u = pm.Deterministic(\"stds_u\", stds)\n",
    "        corr_u = pm.Deterministic(\"corr_u\", corr)\n",
    "    \n",
    "        chol, corr, stds = pm.LKJCholeskyCov(\"chol_o\", n=2, eta=5.0, \n",
    "                                             sd_dist=pm.HalfNormal.dist(.5, shape=2))\n",
    "        cov_o = pm.Deterministic(\"cov_o\", chol.dot(chol.T))\n",
    "        stds_o = pm.Deterministic(\"stds_o\", stds)\n",
    "        corr_o = pm.Deterministic(\"corr_o\", corr)\n",
    "    return kf_test, pymc_mod"
   ]
  },
  {
   "cell_type": "markdown",
   "id": "9d9de197-3bff-4882-991b-9aaff7fed63b",
   "metadata": {},
   "source": [
    "## test with sample data"
   ]
  },
  {
   "cell_type": "code",
   "execution_count": null,
   "id": "b9eb59ea-9815-4f78-b55d-e00376b46179",
   "metadata": {},
   "outputs": [],
   "source": [
    "with mod_kf_test:\n",
    "    kf_test.build_statespace_graph(data=arr_states[:,:2], mode=\"JAX\",  save_kalman_filter_outputs_in_idata=True)\n",
    "    idata = pm.sample(chains=4, nuts_sampler=\"numpyro\", )"
   ]
  },
  {
   "cell_type": "code",
   "execution_count": null,
   "id": "b902ca52-93f0-41dc-9955-4e3fb8d4d1f7",
   "metadata": {},
   "outputs": [],
   "source": [
    "import arviz as az\n",
    "lst_params = ['A', 'B', 'F', 'rho', 'stds_u', 'stds_o']\n",
    "az.plot_trace(idata, var_names=lst_params)\n",
    "plt.tight_layout()\n",
    ";"
   ]
  },
  {
   "cell_type": "code",
   "execution_count": null,
   "id": "39cf224a-c1ac-41ab-8721-be39cdf46af9",
   "metadata": {},
   "outputs": [],
   "source": [
    "az.plot_posterior(idata, var_names=['A', 'B', 'F', 'rho', 'stds_u', 'stds_o'],\n",
    "                  ref_val=[\n",
    "                      dict_true_coefs[i] if i!=0 else i for i in \n",
    "                      ['A', 'B', 'F', 'rho_u_pi', 'rho_u_i', 'epsilon_u_pi', 'epsilon_u_i']\n",
    "                  ] + [*np.cov(arr[:,0], arr[:,1]).diagonal()],\n",
    "                  figsize=(14,8),\n",
    "                 );\n",
    "plt.tight_layout()"
   ]
  },
  {
   "cell_type": "code",
   "execution_count": null,
   "id": "cf4f5a1d-f667-491d-9328-c5315ba4cbd4",
   "metadata": {},
   "outputs": [],
   "source": [
    "plot_KF_states(idata, kf_test, arr_states[:,:2], filtered='filtered')"
   ]
  },
  {
   "cell_type": "markdown",
   "id": "55913f8a-5017-4bf0-b302-3a00660a5867",
   "metadata": {},
   "source": [
    "## true data"
   ]
  },
  {
   "cell_type": "code",
   "execution_count": null,
   "id": "d2d08bc8-c46c-45a2-9364-d17dc244fd08",
   "metadata": {},
   "outputs": [],
   "source": [
    "sub = df[['pi_Y', 'ir']].dropna().copy() \n",
    "sub.plot()\n",
    "data = sub.values"
   ]
  },
  {
   "cell_type": "code",
   "execution_count": null,
   "id": "22b87f53-8aad-4485-862a-fcfe0e4dcf85",
   "metadata": {},
   "outputs": [],
   "source": [
    "kf_real, mod_kf_real = get_KF_pymc_mod()"
   ]
  },
  {
   "cell_type": "code",
   "execution_count": null,
   "id": "38eb79a7-b4e7-4cdb-8a79-a4e0f97632eb",
   "metadata": {},
   "outputs": [],
   "source": [
    "with mod_kf_real:\n",
    "    kf_real.build_statespace_graph(data=data, mode=\"JAX\",  save_kalman_filter_outputs_in_idata=True)\n",
    "    idata = pm.sample(chains=4, nuts_sampler=\"numpyro\", )"
   ]
  },
  {
   "cell_type": "code",
   "execution_count": null,
   "id": "e58407a2-2561-4c3f-b42d-c58843cd2e0b",
   "metadata": {},
   "outputs": [],
   "source": [
    "import arviz as az\n",
    "lst_params = ['A', 'B', 'F', 'rho', 'stds_u', 'stds_o']\n",
    "az.plot_trace(idata, var_names=lst_params)\n",
    "plt.tight_layout()\n",
    ";"
   ]
  },
  {
   "cell_type": "code",
   "execution_count": null,
   "id": "769de541-e3fe-4d9a-a825-7740c249d75f",
   "metadata": {},
   "outputs": [],
   "source": [
    "plot_KF_states(idata, kf_test, arr, filtered='filtered')"
   ]
  },
  {
   "cell_type": "markdown",
   "id": "f13036e8-42dd-4b3c-bbde-29b48fa987ee",
   "metadata": {},
   "source": [
    "# References"
   ]
  },
  {
   "cell_type": "markdown",
   "id": "5379ca29-06aa-4faf-af7d-8af9d92a304d",
   "metadata": {},
   "source": [
    "Bureau of Labor Statistics (2022). What is seasonal adjustment? : U.S. Bureau of Labor Statistics. [online] Bls.gov. Available at: https://www.bls.gov/cps/seasfaq.htm [Accessed 31 Mar. 2024].\n",
    "\n",
    "CEPR. (2024). Monetary policy responses to the post-pandemic inflation: Challenges and lessons for the future. [online] Available at: https://cepr.org/voxeu/columns/monetary-policy-responses-post-pandemic-inflation-challenges-and-lessons-future [Accessed 1 Apr. 2024].\n",
    "\n",
    "Chatelain, J.B. and Ralf, K., 2018. Publish and Perish: Creative Destruction and Macroeconomic Theory.\n",
    "\n",
    "EUROSTAT (2024) Harmonised index of consumer prices (HICP) (prc_hicp), Harmonised index of consumer prices (HICP) (PRC_HICP). Available at: https://ec.europa.eu/eurostat/cache/metadata/en/prc_hicp_esms.htm (Accessed: 30 March 2024). \n",
    "\n",
    "Hodrick, R.J. and Prescott, E.C. (1997). Postwar U.S. Business Cycles: An Empirical Investigation. Journal of Money, Credit and Banking, 29(1), p.1. doi:https://doi.org/10.2307/2953682.\n",
    "\n",
    "OECD (2019). Trend Estimation Method. [online] Oecd-ilibrary.org. Available at: https://www.oecd-ilibrary.org/sites/361fabc3-en/index.html?itemId=/content/component/361fabc3-en [Accessed 31 Mar. 2024].\n",
    "\n",
    "Romer, P. (2016) The trouble with Macroeconomics, The Trouble with Macroeconomics. Available at: https://paulromer.net/trouble-with-macroeconomics-update/WP-Trouble.pdf (Accessed: 14 April 2024). \n",
    "\n",
    "Stock, J.H. and Watson, M.W., 2020. Introduction to econometrics. Pearson.\n",
    "\n",
    "\n",
    "\n",
    "‌"
   ]
  },
  {
   "cell_type": "code",
   "execution_count": null,
   "id": "ac2ce55e-67b9-49fe-9dd3-c3b4867836e0",
   "metadata": {},
   "outputs": [],
   "source": []
  }
 ],
 "metadata": {
  "kernelspec": {
   "display_name": "Python 3 (ipykernel)",
   "language": "python",
   "name": "python3"
  },
  "language_info": {
   "codemirror_mode": {
    "name": "ipython",
    "version": 3
   },
   "file_extension": ".py",
   "mimetype": "text/x-python",
   "name": "python",
   "nbconvert_exporter": "python",
   "pygments_lexer": "ipython3",
   "version": "3.11.4"
  }
 },
 "nbformat": 4,
 "nbformat_minor": 5
}
